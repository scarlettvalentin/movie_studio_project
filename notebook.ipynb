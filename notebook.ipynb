{
 "cells": [
  {
   "cell_type": "markdown",
   "id": "17ed0d64-366a-4026-bd40-58ae0b03d81a",
   "metadata": {},
   "source": [
    "# Movie Studio Analysis"
   ]
  },
  {
   "cell_type": "markdown",
   "id": "444cab97-ce7f-4183-a147-fc65531b86f5",
   "metadata": {},
   "source": [
    "<img src=\"images/banner.png/\" style=\"height:400px\">"
   ]
  },
  {
   "cell_type": "markdown",
   "id": "24ae090d-382a-4036-ad52-0b0d325534ac",
   "metadata": {},
   "source": [
    "# Business Understanding"
   ]
  },
  {
   "cell_type": "markdown",
   "id": "a488b113-3994-4388-a8d6-eb3d94566c3d",
   "metadata": {},
   "source": [
    "Our company has decided to create a **new movie studio**. This is a new venture for the company and our first introduction to the film industry. I will be exploring what types of films are currently doing the best at the box office. \n",
    "\n",
    "In order to help decide what types of films to create, I investigate the following 3 business questions:\n",
    "1. What **genre** movie would produce the most profits?\n",
    "2. What **director** would produce the most profits?\n",
    "3. Which **release month** would produce the most profits?"
   ]
  },
  {
   "cell_type": "markdown",
   "id": "8752d816-7d5e-491e-8a8d-66695997f48d",
   "metadata": {},
   "source": [
    "# Data Understanding"
   ]
  },
  {
   "cell_type": "markdown",
   "id": "684e449f-b5a8-4ac9-b96b-17e7c10107a1",
   "metadata": {},
   "source": [
    "I will be using 3 datasets in this notebook.\n",
    "1. **bom.movie_gross.csv.gz**: This is a dataset from [BoxOfficeMojo](https://www.BoxOfficeMojo.com) containing domestic and foreign gross of 3,387 movies. I use this dataset to analyze total gross of movies.\n",
    "2. **tn.movie_budgets.csv.gz**: This is a datset from [The Numbers](https://www.the-numbers.com/) containing release date, production budget, domestic gross and worldwide gross for 5,782 movies. I use this dataset to determine the most profitable movies and to analyze the release month of the movies.\n",
    "3. **im.db**: This is a database from [IMDB](https://www.IMDB.com) containing 8 tables. I chose 3 tables to use - movie_basics, directors, and persons.  `movie_basics` has basic movie information for 146,144 movies. `directors` has 140,417 entries of movie id's matched to person id's. `persons` has 606648 people related to the movies with their birth year, death year, and primary professions. I use this dataset to determine the director and genre that will result in the most profitable movie.\n",
    "##DELETE **rt.reviews.tsv.gz**: This is a dataset from [Rotten Tomatoes](https://www.RottenTomatoes.com) containing ratings and additional movie information for 1,560 movies. I use this dataset to determine the movie rating that will result in the most profitable movie."
   ]
  },
  {
   "cell_type": "code",
   "execution_count": 1,
   "id": "8f0259af-7622-412c-ac19-5a69a2cb45d4",
   "metadata": {},
   "outputs": [],
   "source": [
    "# Import necessary libraries\n",
    "import pandas as pd\n",
    "import numpy as np\n",
    "import sqlite3\n",
    "import matplotlib.pyplot as plt\n",
    "from matplotlib.ticker import ScalarFormatter\n",
    "from matplotlib.ticker import FuncFormatter\n",
    "import seaborn as sns\n",
    "\n",
    "%matplotlib inline\n",
    "\n",
    "pd.options.mode.copy_on_write = True\n",
    "\n",
    "# Suppress harmless warning for use_inf_as_na\n",
    "import warnings\n",
    "warnings.simplefilter(action=\"ignore\", category=FutureWarning)"
   ]
  },
  {
   "cell_type": "code",
   "execution_count": 2,
   "id": "08d317ae-8360-45f3-be59-f7c1772516e0",
   "metadata": {
    "scrolled": true
   },
   "outputs": [],
   "source": [
    "# Save Box Office Mojo dataset to bom_df\n",
    "bom_df = pd.read_csv('data/zippedData/bom.movie_gross.csv.gz')"
   ]
  },
  {
   "cell_type": "code",
   "execution_count": 3,
   "id": "e82800fb-7be5-4613-bd71-c036c3ce48ac",
   "metadata": {},
   "outputs": [],
   "source": [
    "# Save The Numbers dataset to budget_df\n",
    "budget_df = pd.read_csv('data/zippedData/tn.movie_budgets.csv.gz')"
   ]
  },
  {
   "cell_type": "code",
   "execution_count": 4,
   "id": "fc95c9dd-03b6-4c6f-a4f6-9cb8ef0effd4",
   "metadata": {},
   "outputs": [],
   "source": [
    "# Save IMDB dataset to conn\n",
    "conn = sqlite3.connect('data/zippedData/im.db')\n",
    "\n",
    "# Save movie_basics table as a Pandas dataframe movie_basics_df\n",
    "query_movie_basics = \"\"\"\n",
    "\n",
    "SELECT *\n",
    "  FROM movie_basics\n",
    "\"\"\"\n",
    "\n",
    "movie_basics_df = pd.read_sql(query_movie_basics, conn)\n",
    "\n",
    "# Save directors table as a Pandas dataframe directors_df\n",
    "query_directors = \"\"\"\n",
    "\n",
    "  SELECT *\n",
    "    FROM directors\n",
    "GROUP BY movie_id\n",
    "\"\"\"\n",
    "\n",
    "directors_df = pd.read_sql(query_directors, conn)\n",
    "\n",
    "\n",
    "movie_basics_df = pd.read_sql(query_movie_basics, conn)\n",
    "\n",
    "# Save persons table as a Pandas dataframe persons_df\n",
    "query_persons = \"\"\"\n",
    "\n",
    "SELECT *\n",
    "  FROM persons\n",
    "\"\"\"\n",
    "\n",
    "persons_df = pd.read_sql(query_persons, conn)"
   ]
  },
  {
   "cell_type": "code",
   "execution_count": 5,
   "id": "77aa0b47-0219-4a0b-99e9-7ca219127cec",
   "metadata": {},
   "outputs": [],
   "source": [
    "## DELETE\n",
    "# Save Rotten Tomatoes dataset to rt_movie_info_df\n",
    "rt_movie_info_df = pd.read_csv('data/zippedData/rt.movie_info.tsv.gz', sep='\\t', encoding='windows-1252')"
   ]
  },
  {
   "cell_type": "markdown",
   "id": "0b85dd17-6ba7-4b13-8d15-57ff324292db",
   "metadata": {},
   "source": [
    "## Data Preparation"
   ]
  },
  {
   "cell_type": "markdown",
   "id": "92983148-1bf9-456f-806f-50a7ee550aca",
   "metadata": {},
   "source": [
    "I take a closer look at each dataset in this section. "
   ]
  },
  {
   "cell_type": "markdown",
   "id": "0f2bcc63-abbb-410f-a61e-f187ee6db6eb",
   "metadata": {},
   "source": [
    "### Box Office Mojo"
   ]
  },
  {
   "cell_type": "code",
   "execution_count": 6,
   "id": "babbe19f-eca1-4f86-8eab-4359ed29fcae",
   "metadata": {},
   "outputs": [
    {
     "data": {
      "text/html": [
       "<div>\n",
       "<style scoped>\n",
       "    .dataframe tbody tr th:only-of-type {\n",
       "        vertical-align: middle;\n",
       "    }\n",
       "\n",
       "    .dataframe tbody tr th {\n",
       "        vertical-align: top;\n",
       "    }\n",
       "\n",
       "    .dataframe thead th {\n",
       "        text-align: right;\n",
       "    }\n",
       "</style>\n",
       "<table border=\"1\" class=\"dataframe\">\n",
       "  <thead>\n",
       "    <tr style=\"text-align: right;\">\n",
       "      <th></th>\n",
       "      <th>title</th>\n",
       "      <th>studio</th>\n",
       "      <th>domestic_gross</th>\n",
       "      <th>foreign_gross</th>\n",
       "      <th>year</th>\n",
       "    </tr>\n",
       "  </thead>\n",
       "  <tbody>\n",
       "    <tr>\n",
       "      <th>0</th>\n",
       "      <td>Toy Story 3</td>\n",
       "      <td>BV</td>\n",
       "      <td>415000000.0</td>\n",
       "      <td>652000000</td>\n",
       "      <td>2010</td>\n",
       "    </tr>\n",
       "    <tr>\n",
       "      <th>1</th>\n",
       "      <td>Alice in Wonderland (2010)</td>\n",
       "      <td>BV</td>\n",
       "      <td>334200000.0</td>\n",
       "      <td>691300000</td>\n",
       "      <td>2010</td>\n",
       "    </tr>\n",
       "    <tr>\n",
       "      <th>2</th>\n",
       "      <td>Harry Potter and the Deathly Hallows Part 1</td>\n",
       "      <td>WB</td>\n",
       "      <td>296000000.0</td>\n",
       "      <td>664300000</td>\n",
       "      <td>2010</td>\n",
       "    </tr>\n",
       "    <tr>\n",
       "      <th>3</th>\n",
       "      <td>Inception</td>\n",
       "      <td>WB</td>\n",
       "      <td>292600000.0</td>\n",
       "      <td>535700000</td>\n",
       "      <td>2010</td>\n",
       "    </tr>\n",
       "    <tr>\n",
       "      <th>4</th>\n",
       "      <td>Shrek Forever After</td>\n",
       "      <td>P/DW</td>\n",
       "      <td>238700000.0</td>\n",
       "      <td>513900000</td>\n",
       "      <td>2010</td>\n",
       "    </tr>\n",
       "  </tbody>\n",
       "</table>\n",
       "</div>"
      ],
      "text/plain": [
       "                                         title studio  domestic_gross  \\\n",
       "0                                  Toy Story 3     BV     415000000.0   \n",
       "1                   Alice in Wonderland (2010)     BV     334200000.0   \n",
       "2  Harry Potter and the Deathly Hallows Part 1     WB     296000000.0   \n",
       "3                                    Inception     WB     292600000.0   \n",
       "4                          Shrek Forever After   P/DW     238700000.0   \n",
       "\n",
       "  foreign_gross  year  \n",
       "0     652000000  2010  \n",
       "1     691300000  2010  \n",
       "2     664300000  2010  \n",
       "3     535700000  2010  \n",
       "4     513900000  2010  "
      ]
     },
     "execution_count": 6,
     "metadata": {},
     "output_type": "execute_result"
    }
   ],
   "source": [
    "# Preview first 5 entries of bom_df\n",
    "bom_df.head()"
   ]
  },
  {
   "cell_type": "markdown",
   "id": "d38e6645-09fb-4b30-ad8c-06650f9c9ca9",
   "metadata": {},
   "source": [
    "I take a look at the columns, number of nulls, and data types. I notice `foreign_gross` is type object. I will have to convert this data to floats when clearning. "
   ]
  },
  {
   "cell_type": "code",
   "execution_count": 7,
   "id": "bf7e3160-e6da-4013-b95c-3f4ab2496100",
   "metadata": {},
   "outputs": [
    {
     "name": "stdout",
     "output_type": "stream",
     "text": [
      "<class 'pandas.core.frame.DataFrame'>\n",
      "RangeIndex: 3387 entries, 0 to 3386\n",
      "Data columns (total 5 columns):\n",
      " #   Column          Non-Null Count  Dtype  \n",
      "---  ------          --------------  -----  \n",
      " 0   title           3387 non-null   object \n",
      " 1   studio          3382 non-null   object \n",
      " 2   domestic_gross  3359 non-null   float64\n",
      " 3   foreign_gross   2037 non-null   object \n",
      " 4   year            3387 non-null   int64  \n",
      "dtypes: float64(1), int64(1), object(3)\n",
      "memory usage: 132.4+ KB\n"
     ]
    }
   ],
   "source": [
    "# View the overall shape, dtypes and null counts for each column in bom_df\n",
    "bom_df.info()"
   ]
  },
  {
   "cell_type": "markdown",
   "id": "b3a2a7de-9cef-473d-b895-c4ce277933e3",
   "metadata": {},
   "source": [
    "### The Numbers"
   ]
  },
  {
   "cell_type": "code",
   "execution_count": 8,
   "id": "0da1525f-8b4a-482f-9140-20a59a567945",
   "metadata": {},
   "outputs": [
    {
     "data": {
      "text/html": [
       "<div>\n",
       "<style scoped>\n",
       "    .dataframe tbody tr th:only-of-type {\n",
       "        vertical-align: middle;\n",
       "    }\n",
       "\n",
       "    .dataframe tbody tr th {\n",
       "        vertical-align: top;\n",
       "    }\n",
       "\n",
       "    .dataframe thead th {\n",
       "        text-align: right;\n",
       "    }\n",
       "</style>\n",
       "<table border=\"1\" class=\"dataframe\">\n",
       "  <thead>\n",
       "    <tr style=\"text-align: right;\">\n",
       "      <th></th>\n",
       "      <th>id</th>\n",
       "      <th>release_date</th>\n",
       "      <th>movie</th>\n",
       "      <th>production_budget</th>\n",
       "      <th>domestic_gross</th>\n",
       "      <th>worldwide_gross</th>\n",
       "    </tr>\n",
       "  </thead>\n",
       "  <tbody>\n",
       "    <tr>\n",
       "      <th>0</th>\n",
       "      <td>1</td>\n",
       "      <td>Dec 18, 2009</td>\n",
       "      <td>Avatar</td>\n",
       "      <td>$425,000,000</td>\n",
       "      <td>$760,507,625</td>\n",
       "      <td>$2,776,345,279</td>\n",
       "    </tr>\n",
       "    <tr>\n",
       "      <th>1</th>\n",
       "      <td>2</td>\n",
       "      <td>May 20, 2011</td>\n",
       "      <td>Pirates of the Caribbean: On Stranger Tides</td>\n",
       "      <td>$410,600,000</td>\n",
       "      <td>$241,063,875</td>\n",
       "      <td>$1,045,663,875</td>\n",
       "    </tr>\n",
       "    <tr>\n",
       "      <th>2</th>\n",
       "      <td>3</td>\n",
       "      <td>Jun 7, 2019</td>\n",
       "      <td>Dark Phoenix</td>\n",
       "      <td>$350,000,000</td>\n",
       "      <td>$42,762,350</td>\n",
       "      <td>$149,762,350</td>\n",
       "    </tr>\n",
       "    <tr>\n",
       "      <th>3</th>\n",
       "      <td>4</td>\n",
       "      <td>May 1, 2015</td>\n",
       "      <td>Avengers: Age of Ultron</td>\n",
       "      <td>$330,600,000</td>\n",
       "      <td>$459,005,868</td>\n",
       "      <td>$1,403,013,963</td>\n",
       "    </tr>\n",
       "    <tr>\n",
       "      <th>4</th>\n",
       "      <td>5</td>\n",
       "      <td>Dec 15, 2017</td>\n",
       "      <td>Star Wars Ep. VIII: The Last Jedi</td>\n",
       "      <td>$317,000,000</td>\n",
       "      <td>$620,181,382</td>\n",
       "      <td>$1,316,721,747</td>\n",
       "    </tr>\n",
       "  </tbody>\n",
       "</table>\n",
       "</div>"
      ],
      "text/plain": [
       "   id  release_date                                        movie  \\\n",
       "0   1  Dec 18, 2009                                       Avatar   \n",
       "1   2  May 20, 2011  Pirates of the Caribbean: On Stranger Tides   \n",
       "2   3   Jun 7, 2019                                 Dark Phoenix   \n",
       "3   4   May 1, 2015                      Avengers: Age of Ultron   \n",
       "4   5  Dec 15, 2017            Star Wars Ep. VIII: The Last Jedi   \n",
       "\n",
       "  production_budget domestic_gross worldwide_gross  \n",
       "0      $425,000,000   $760,507,625  $2,776,345,279  \n",
       "1      $410,600,000   $241,063,875  $1,045,663,875  \n",
       "2      $350,000,000    $42,762,350    $149,762,350  \n",
       "3      $330,600,000   $459,005,868  $1,403,013,963  \n",
       "4      $317,000,000   $620,181,382  $1,316,721,747  "
      ]
     },
     "execution_count": 8,
     "metadata": {},
     "output_type": "execute_result"
    }
   ],
   "source": [
    "# Preview first 5 entries of budget_df\n",
    "budget_df.head()"
   ]
  },
  {
   "cell_type": "code",
   "execution_count": 9,
   "id": "e724482c-98eb-4908-a4bd-c56f15b11cf8",
   "metadata": {},
   "outputs": [
    {
     "name": "stdout",
     "output_type": "stream",
     "text": [
      "<class 'pandas.core.frame.DataFrame'>\n",
      "RangeIndex: 5782 entries, 0 to 5781\n",
      "Data columns (total 6 columns):\n",
      " #   Column             Non-Null Count  Dtype \n",
      "---  ------             --------------  ----- \n",
      " 0   id                 5782 non-null   int64 \n",
      " 1   release_date       5782 non-null   object\n",
      " 2   movie              5782 non-null   object\n",
      " 3   production_budget  5782 non-null   object\n",
      " 4   domestic_gross     5782 non-null   object\n",
      " 5   worldwide_gross    5782 non-null   object\n",
      "dtypes: int64(1), object(5)\n",
      "memory usage: 271.2+ KB\n"
     ]
    }
   ],
   "source": [
    "# View the overall shape, dtypes and null counts for each column in bom_df\n",
    "budget_df.info()"
   ]
  },
  {
   "cell_type": "markdown",
   "id": "6302c0e1-70e3-4884-ab0c-01ff9e247bcb",
   "metadata": {},
   "source": [
    "There are no nulls in this dataset. I will be creating a profit column to indicate the difference between `production_budget` and `worldwide_gross`. I also will create a separate column for month of release in order to determine the most profitable release month."
   ]
  },
  {
   "cell_type": "markdown",
   "id": "e9b00135-c482-4abb-a78a-7f3f7b70cec0",
   "metadata": {},
   "source": [
    "### IMDB"
   ]
  },
  {
   "cell_type": "code",
   "execution_count": 10,
   "id": "6f2000b1-94fe-4232-9df1-0ce78252874b",
   "metadata": {},
   "outputs": [
    {
     "data": {
      "text/html": [
       "<div>\n",
       "<style scoped>\n",
       "    .dataframe tbody tr th:only-of-type {\n",
       "        vertical-align: middle;\n",
       "    }\n",
       "\n",
       "    .dataframe tbody tr th {\n",
       "        vertical-align: top;\n",
       "    }\n",
       "\n",
       "    .dataframe thead th {\n",
       "        text-align: right;\n",
       "    }\n",
       "</style>\n",
       "<table border=\"1\" class=\"dataframe\">\n",
       "  <thead>\n",
       "    <tr style=\"text-align: right;\">\n",
       "      <th></th>\n",
       "      <th>movie_id</th>\n",
       "      <th>primary_title</th>\n",
       "      <th>original_title</th>\n",
       "      <th>start_year</th>\n",
       "      <th>runtime_minutes</th>\n",
       "      <th>genres</th>\n",
       "    </tr>\n",
       "  </thead>\n",
       "  <tbody>\n",
       "    <tr>\n",
       "      <th>0</th>\n",
       "      <td>tt0063540</td>\n",
       "      <td>Sunghursh</td>\n",
       "      <td>Sunghursh</td>\n",
       "      <td>2013</td>\n",
       "      <td>175.0</td>\n",
       "      <td>Action,Crime,Drama</td>\n",
       "    </tr>\n",
       "    <tr>\n",
       "      <th>1</th>\n",
       "      <td>tt0066787</td>\n",
       "      <td>One Day Before the Rainy Season</td>\n",
       "      <td>Ashad Ka Ek Din</td>\n",
       "      <td>2019</td>\n",
       "      <td>114.0</td>\n",
       "      <td>Biography,Drama</td>\n",
       "    </tr>\n",
       "    <tr>\n",
       "      <th>2</th>\n",
       "      <td>tt0069049</td>\n",
       "      <td>The Other Side of the Wind</td>\n",
       "      <td>The Other Side of the Wind</td>\n",
       "      <td>2018</td>\n",
       "      <td>122.0</td>\n",
       "      <td>Drama</td>\n",
       "    </tr>\n",
       "    <tr>\n",
       "      <th>3</th>\n",
       "      <td>tt0069204</td>\n",
       "      <td>Sabse Bada Sukh</td>\n",
       "      <td>Sabse Bada Sukh</td>\n",
       "      <td>2018</td>\n",
       "      <td>NaN</td>\n",
       "      <td>Comedy,Drama</td>\n",
       "    </tr>\n",
       "    <tr>\n",
       "      <th>4</th>\n",
       "      <td>tt0100275</td>\n",
       "      <td>The Wandering Soap Opera</td>\n",
       "      <td>La Telenovela Errante</td>\n",
       "      <td>2017</td>\n",
       "      <td>80.0</td>\n",
       "      <td>Comedy,Drama,Fantasy</td>\n",
       "    </tr>\n",
       "  </tbody>\n",
       "</table>\n",
       "</div>"
      ],
      "text/plain": [
       "    movie_id                    primary_title              original_title  \\\n",
       "0  tt0063540                        Sunghursh                   Sunghursh   \n",
       "1  tt0066787  One Day Before the Rainy Season             Ashad Ka Ek Din   \n",
       "2  tt0069049       The Other Side of the Wind  The Other Side of the Wind   \n",
       "3  tt0069204                  Sabse Bada Sukh             Sabse Bada Sukh   \n",
       "4  tt0100275         The Wandering Soap Opera       La Telenovela Errante   \n",
       "\n",
       "   start_year  runtime_minutes                genres  \n",
       "0        2013            175.0    Action,Crime,Drama  \n",
       "1        2019            114.0       Biography,Drama  \n",
       "2        2018            122.0                 Drama  \n",
       "3        2018              NaN          Comedy,Drama  \n",
       "4        2017             80.0  Comedy,Drama,Fantasy  "
      ]
     },
     "execution_count": 10,
     "metadata": {},
     "output_type": "execute_result"
    }
   ],
   "source": [
    "# Preview first 5 entries of movie_basics_df\n",
    "movie_basics_df.head()"
   ]
  },
  {
   "cell_type": "code",
   "execution_count": 11,
   "id": "521f9f83-e5f6-4c9d-aaf5-fed971c81edb",
   "metadata": {},
   "outputs": [
    {
     "data": {
      "text/html": [
       "<div>\n",
       "<style scoped>\n",
       "    .dataframe tbody tr th:only-of-type {\n",
       "        vertical-align: middle;\n",
       "    }\n",
       "\n",
       "    .dataframe tbody tr th {\n",
       "        vertical-align: top;\n",
       "    }\n",
       "\n",
       "    .dataframe thead th {\n",
       "        text-align: right;\n",
       "    }\n",
       "</style>\n",
       "<table border=\"1\" class=\"dataframe\">\n",
       "  <thead>\n",
       "    <tr style=\"text-align: right;\">\n",
       "      <th></th>\n",
       "      <th>movie_id</th>\n",
       "      <th>primary_title</th>\n",
       "      <th>original_title</th>\n",
       "      <th>start_year</th>\n",
       "      <th>runtime_minutes</th>\n",
       "      <th>genres</th>\n",
       "    </tr>\n",
       "  </thead>\n",
       "  <tbody>\n",
       "  </tbody>\n",
       "</table>\n",
       "</div>"
      ],
      "text/plain": [
       "Empty DataFrame\n",
       "Columns: [movie_id, primary_title, original_title, start_year, runtime_minutes, genres]\n",
       "Index: []"
      ]
     },
     "execution_count": 11,
     "metadata": {},
     "output_type": "execute_result"
    }
   ],
   "source": [
    "# Check for duplicates in movie_basics_df\n",
    "movie_basics_df[movie_basics_df.duplicated(subset='movie_id')]"
   ]
  },
  {
   "cell_type": "code",
   "execution_count": 12,
   "id": "70a2240a-dd36-45a9-86ac-b5aab5d2bd7b",
   "metadata": {},
   "outputs": [
    {
     "name": "stdout",
     "output_type": "stream",
     "text": [
      "<class 'pandas.core.frame.DataFrame'>\n",
      "RangeIndex: 146144 entries, 0 to 146143\n",
      "Data columns (total 6 columns):\n",
      " #   Column           Non-Null Count   Dtype  \n",
      "---  ------           --------------   -----  \n",
      " 0   movie_id         146144 non-null  object \n",
      " 1   primary_title    146144 non-null  object \n",
      " 2   original_title   146123 non-null  object \n",
      " 3   start_year       146144 non-null  int64  \n",
      " 4   runtime_minutes  114405 non-null  float64\n",
      " 5   genres           140736 non-null  object \n",
      "dtypes: float64(1), int64(1), object(4)\n",
      "memory usage: 6.7+ MB\n"
     ]
    }
   ],
   "source": [
    "# View the overall shape, dtypes and null counts for each column in movie_basics_df\n",
    "movie_basics_df.info()"
   ]
  },
  {
   "cell_type": "code",
   "execution_count": 13,
   "id": "090473b9-b6fe-4baf-8b71-ad927e8f0ba0",
   "metadata": {},
   "outputs": [
    {
     "data": {
      "text/html": [
       "<div>\n",
       "<style scoped>\n",
       "    .dataframe tbody tr th:only-of-type {\n",
       "        vertical-align: middle;\n",
       "    }\n",
       "\n",
       "    .dataframe tbody tr th {\n",
       "        vertical-align: top;\n",
       "    }\n",
       "\n",
       "    .dataframe thead th {\n",
       "        text-align: right;\n",
       "    }\n",
       "</style>\n",
       "<table border=\"1\" class=\"dataframe\">\n",
       "  <thead>\n",
       "    <tr style=\"text-align: right;\">\n",
       "      <th></th>\n",
       "      <th>movie_id</th>\n",
       "      <th>primary_title</th>\n",
       "      <th>original_title</th>\n",
       "      <th>start_year</th>\n",
       "      <th>runtime_minutes</th>\n",
       "      <th>genres</th>\n",
       "    </tr>\n",
       "  </thead>\n",
       "  <tbody>\n",
       "    <tr>\n",
       "      <th>16</th>\n",
       "      <td>tt0187902</td>\n",
       "      <td>How Huang Fei-hong Rescued the Orphan from the...</td>\n",
       "      <td>How Huang Fei-hong Rescued the Orphan from the...</td>\n",
       "      <td>2011</td>\n",
       "      <td>NaN</td>\n",
       "      <td>None</td>\n",
       "    </tr>\n",
       "    <tr>\n",
       "      <th>22</th>\n",
       "      <td>tt0253093</td>\n",
       "      <td>Gangavataran</td>\n",
       "      <td>Gangavataran</td>\n",
       "      <td>2018</td>\n",
       "      <td>134.0</td>\n",
       "      <td>None</td>\n",
       "    </tr>\n",
       "    <tr>\n",
       "      <th>35</th>\n",
       "      <td>tt0306058</td>\n",
       "      <td>Second Coming</td>\n",
       "      <td>Second Coming</td>\n",
       "      <td>2012</td>\n",
       "      <td>95.0</td>\n",
       "      <td>None</td>\n",
       "    </tr>\n",
       "    <tr>\n",
       "      <th>40</th>\n",
       "      <td>tt0326592</td>\n",
       "      <td>The Overnight</td>\n",
       "      <td>The Overnight</td>\n",
       "      <td>2010</td>\n",
       "      <td>88.0</td>\n",
       "      <td>None</td>\n",
       "    </tr>\n",
       "    <tr>\n",
       "      <th>44</th>\n",
       "      <td>tt0330811</td>\n",
       "      <td>Regret Not Speaking</td>\n",
       "      <td>Regret Not Speaking</td>\n",
       "      <td>2011</td>\n",
       "      <td>NaN</td>\n",
       "      <td>None</td>\n",
       "    </tr>\n",
       "    <tr>\n",
       "      <th>...</th>\n",
       "      <td>...</td>\n",
       "      <td>...</td>\n",
       "      <td>...</td>\n",
       "      <td>...</td>\n",
       "      <td>...</td>\n",
       "      <td>...</td>\n",
       "    </tr>\n",
       "    <tr>\n",
       "      <th>146088</th>\n",
       "      <td>tt9907396</td>\n",
       "      <td>Footloose in the Cotswolds - Part 1</td>\n",
       "      <td>Footloose in the Cotswolds - Part 1</td>\n",
       "      <td>2016</td>\n",
       "      <td>118.0</td>\n",
       "      <td>None</td>\n",
       "    </tr>\n",
       "    <tr>\n",
       "      <th>146089</th>\n",
       "      <td>tt9907608</td>\n",
       "      <td>Footloose in the Cotswolds - Part 2</td>\n",
       "      <td>Footloose in the Cotswolds - Part 2</td>\n",
       "      <td>2016</td>\n",
       "      <td>102.0</td>\n",
       "      <td>None</td>\n",
       "    </tr>\n",
       "    <tr>\n",
       "      <th>146107</th>\n",
       "      <td>tt9910922</td>\n",
       "      <td>Doctor Who Augmented Reality: Times Magazine</td>\n",
       "      <td>Doctor Who Augmented Reality: Times Magazine</td>\n",
       "      <td>2013</td>\n",
       "      <td>NaN</td>\n",
       "      <td>None</td>\n",
       "    </tr>\n",
       "    <tr>\n",
       "      <th>146129</th>\n",
       "      <td>tt9914942</td>\n",
       "      <td>La vida sense la Sara Amat</td>\n",
       "      <td>La vida sense la Sara Amat</td>\n",
       "      <td>2019</td>\n",
       "      <td>NaN</td>\n",
       "      <td>None</td>\n",
       "    </tr>\n",
       "    <tr>\n",
       "      <th>146142</th>\n",
       "      <td>tt9916730</td>\n",
       "      <td>6 Gunn</td>\n",
       "      <td>6 Gunn</td>\n",
       "      <td>2017</td>\n",
       "      <td>116.0</td>\n",
       "      <td>None</td>\n",
       "    </tr>\n",
       "  </tbody>\n",
       "</table>\n",
       "<p>5408 rows × 6 columns</p>\n",
       "</div>"
      ],
      "text/plain": [
       "         movie_id                                      primary_title  \\\n",
       "16      tt0187902  How Huang Fei-hong Rescued the Orphan from the...   \n",
       "22      tt0253093                                       Gangavataran   \n",
       "35      tt0306058                                      Second Coming   \n",
       "40      tt0326592                                      The Overnight   \n",
       "44      tt0330811                                Regret Not Speaking   \n",
       "...           ...                                                ...   \n",
       "146088  tt9907396                Footloose in the Cotswolds - Part 1   \n",
       "146089  tt9907608                Footloose in the Cotswolds - Part 2   \n",
       "146107  tt9910922       Doctor Who Augmented Reality: Times Magazine   \n",
       "146129  tt9914942                         La vida sense la Sara Amat   \n",
       "146142  tt9916730                                             6 Gunn   \n",
       "\n",
       "                                           original_title  start_year  \\\n",
       "16      How Huang Fei-hong Rescued the Orphan from the...        2011   \n",
       "22                                           Gangavataran        2018   \n",
       "35                                          Second Coming        2012   \n",
       "40                                          The Overnight        2010   \n",
       "44                                    Regret Not Speaking        2011   \n",
       "...                                                   ...         ...   \n",
       "146088                Footloose in the Cotswolds - Part 1        2016   \n",
       "146089                Footloose in the Cotswolds - Part 2        2016   \n",
       "146107       Doctor Who Augmented Reality: Times Magazine        2013   \n",
       "146129                         La vida sense la Sara Amat        2019   \n",
       "146142                                             6 Gunn        2017   \n",
       "\n",
       "        runtime_minutes genres  \n",
       "16                  NaN   None  \n",
       "22                134.0   None  \n",
       "35                 95.0   None  \n",
       "40                 88.0   None  \n",
       "44                  NaN   None  \n",
       "...                 ...    ...  \n",
       "146088            118.0   None  \n",
       "146089            102.0   None  \n",
       "146107              NaN   None  \n",
       "146129              NaN   None  \n",
       "146142            116.0   None  \n",
       "\n",
       "[5408 rows x 6 columns]"
      ]
     },
     "execution_count": 13,
     "metadata": {},
     "output_type": "execute_result"
    }
   ],
   "source": [
    "# Preview what is listed under the null genre entries\n",
    "movie_basics_df[movie_basics_df['genres'].isna()]"
   ]
  },
  {
   "cell_type": "markdown",
   "id": "a80e909d-7cc2-46cb-8d03-6bddcdf257f5",
   "metadata": {},
   "source": [
    "There are no null entries in the `movie_id` and `primary_title` columns. There are 5,408 nulls in the genres column. I am using this table specifically for genres, so I will be drops the columns where the genre is null."
   ]
  },
  {
   "cell_type": "code",
   "execution_count": 14,
   "id": "2a73c124-d841-4580-a220-e3707d6a3b94",
   "metadata": {},
   "outputs": [
    {
     "data": {
      "text/html": [
       "<div>\n",
       "<style scoped>\n",
       "    .dataframe tbody tr th:only-of-type {\n",
       "        vertical-align: middle;\n",
       "    }\n",
       "\n",
       "    .dataframe tbody tr th {\n",
       "        vertical-align: top;\n",
       "    }\n",
       "\n",
       "    .dataframe thead th {\n",
       "        text-align: right;\n",
       "    }\n",
       "</style>\n",
       "<table border=\"1\" class=\"dataframe\">\n",
       "  <thead>\n",
       "    <tr style=\"text-align: right;\">\n",
       "      <th></th>\n",
       "      <th>movie_id</th>\n",
       "      <th>person_id</th>\n",
       "    </tr>\n",
       "  </thead>\n",
       "  <tbody>\n",
       "    <tr>\n",
       "      <th>0</th>\n",
       "      <td>tt0063540</td>\n",
       "      <td>nm0712540</td>\n",
       "    </tr>\n",
       "    <tr>\n",
       "      <th>1</th>\n",
       "      <td>tt0066787</td>\n",
       "      <td>nm0002411</td>\n",
       "    </tr>\n",
       "    <tr>\n",
       "      <th>2</th>\n",
       "      <td>tt0069049</td>\n",
       "      <td>nm0000080</td>\n",
       "    </tr>\n",
       "    <tr>\n",
       "      <th>3</th>\n",
       "      <td>tt0069204</td>\n",
       "      <td>nm0611531</td>\n",
       "    </tr>\n",
       "    <tr>\n",
       "      <th>4</th>\n",
       "      <td>tt0100275</td>\n",
       "      <td>nm0765384</td>\n",
       "    </tr>\n",
       "  </tbody>\n",
       "</table>\n",
       "</div>"
      ],
      "text/plain": [
       "    movie_id  person_id\n",
       "0  tt0063540  nm0712540\n",
       "1  tt0066787  nm0002411\n",
       "2  tt0069049  nm0000080\n",
       "3  tt0069204  nm0611531\n",
       "4  tt0100275  nm0765384"
      ]
     },
     "execution_count": 14,
     "metadata": {},
     "output_type": "execute_result"
    }
   ],
   "source": [
    "# Preview first 5 entries of directors_df\n",
    "directors_df.head()"
   ]
  },
  {
   "cell_type": "code",
   "execution_count": 15,
   "id": "c8490d6b-383c-4cc0-93da-3ca353eba227",
   "metadata": {},
   "outputs": [
    {
     "name": "stdout",
     "output_type": "stream",
     "text": [
      "<class 'pandas.core.frame.DataFrame'>\n",
      "RangeIndex: 140417 entries, 0 to 140416\n",
      "Data columns (total 2 columns):\n",
      " #   Column     Non-Null Count   Dtype \n",
      "---  ------     --------------   ----- \n",
      " 0   movie_id   140417 non-null  object\n",
      " 1   person_id  140417 non-null  object\n",
      "dtypes: object(2)\n",
      "memory usage: 2.1+ MB\n"
     ]
    }
   ],
   "source": [
    "# View the overall shape, dtypes and null counts for each column in directors_df\n",
    "directors_df.info()"
   ]
  },
  {
   "cell_type": "code",
   "execution_count": 16,
   "id": "6f407945-f399-438b-b061-97496ecb07a0",
   "metadata": {},
   "outputs": [
    {
     "data": {
      "text/html": [
       "<div>\n",
       "<style scoped>\n",
       "    .dataframe tbody tr th:only-of-type {\n",
       "        vertical-align: middle;\n",
       "    }\n",
       "\n",
       "    .dataframe tbody tr th {\n",
       "        vertical-align: top;\n",
       "    }\n",
       "\n",
       "    .dataframe thead th {\n",
       "        text-align: right;\n",
       "    }\n",
       "</style>\n",
       "<table border=\"1\" class=\"dataframe\">\n",
       "  <thead>\n",
       "    <tr style=\"text-align: right;\">\n",
       "      <th></th>\n",
       "      <th>movie_id</th>\n",
       "      <th>person_id</th>\n",
       "    </tr>\n",
       "  </thead>\n",
       "  <tbody>\n",
       "  </tbody>\n",
       "</table>\n",
       "</div>"
      ],
      "text/plain": [
       "Empty DataFrame\n",
       "Columns: [movie_id, person_id]\n",
       "Index: []"
      ]
     },
     "execution_count": 16,
     "metadata": {},
     "output_type": "execute_result"
    }
   ],
   "source": [
    "# Check for duplicates in directors_df\n",
    "directors_df[directors_df.duplicated(subset='movie_id')]"
   ]
  },
  {
   "cell_type": "markdown",
   "id": "b8541e67-b6cf-4a6c-8ead-bf91b5228b3d",
   "metadata": {},
   "source": [
    "There are no nulls in `directors_df` but there are many duplicates. If there are "
   ]
  },
  {
   "cell_type": "code",
   "execution_count": 17,
   "id": "27936215-af37-4236-b672-eaa16d827e0f",
   "metadata": {},
   "outputs": [
    {
     "data": {
      "text/html": [
       "<div>\n",
       "<style scoped>\n",
       "    .dataframe tbody tr th:only-of-type {\n",
       "        vertical-align: middle;\n",
       "    }\n",
       "\n",
       "    .dataframe tbody tr th {\n",
       "        vertical-align: top;\n",
       "    }\n",
       "\n",
       "    .dataframe thead th {\n",
       "        text-align: right;\n",
       "    }\n",
       "</style>\n",
       "<table border=\"1\" class=\"dataframe\">\n",
       "  <thead>\n",
       "    <tr style=\"text-align: right;\">\n",
       "      <th></th>\n",
       "      <th>person_id</th>\n",
       "      <th>primary_name</th>\n",
       "      <th>birth_year</th>\n",
       "      <th>death_year</th>\n",
       "      <th>primary_profession</th>\n",
       "    </tr>\n",
       "  </thead>\n",
       "  <tbody>\n",
       "    <tr>\n",
       "      <th>0</th>\n",
       "      <td>nm0061671</td>\n",
       "      <td>Mary Ellen Bauder</td>\n",
       "      <td>NaN</td>\n",
       "      <td>NaN</td>\n",
       "      <td>miscellaneous,production_manager,producer</td>\n",
       "    </tr>\n",
       "    <tr>\n",
       "      <th>1</th>\n",
       "      <td>nm0061865</td>\n",
       "      <td>Joseph Bauer</td>\n",
       "      <td>NaN</td>\n",
       "      <td>NaN</td>\n",
       "      <td>composer,music_department,sound_department</td>\n",
       "    </tr>\n",
       "    <tr>\n",
       "      <th>2</th>\n",
       "      <td>nm0062070</td>\n",
       "      <td>Bruce Baum</td>\n",
       "      <td>NaN</td>\n",
       "      <td>NaN</td>\n",
       "      <td>miscellaneous,actor,writer</td>\n",
       "    </tr>\n",
       "    <tr>\n",
       "      <th>3</th>\n",
       "      <td>nm0062195</td>\n",
       "      <td>Axel Baumann</td>\n",
       "      <td>NaN</td>\n",
       "      <td>NaN</td>\n",
       "      <td>camera_department,cinematographer,art_department</td>\n",
       "    </tr>\n",
       "    <tr>\n",
       "      <th>4</th>\n",
       "      <td>nm0062798</td>\n",
       "      <td>Pete Baxter</td>\n",
       "      <td>NaN</td>\n",
       "      <td>NaN</td>\n",
       "      <td>production_designer,art_department,set_decorator</td>\n",
       "    </tr>\n",
       "  </tbody>\n",
       "</table>\n",
       "</div>"
      ],
      "text/plain": [
       "   person_id       primary_name  birth_year  death_year  \\\n",
       "0  nm0061671  Mary Ellen Bauder         NaN         NaN   \n",
       "1  nm0061865       Joseph Bauer         NaN         NaN   \n",
       "2  nm0062070         Bruce Baum         NaN         NaN   \n",
       "3  nm0062195       Axel Baumann         NaN         NaN   \n",
       "4  nm0062798        Pete Baxter         NaN         NaN   \n",
       "\n",
       "                                 primary_profession  \n",
       "0         miscellaneous,production_manager,producer  \n",
       "1        composer,music_department,sound_department  \n",
       "2                        miscellaneous,actor,writer  \n",
       "3  camera_department,cinematographer,art_department  \n",
       "4  production_designer,art_department,set_decorator  "
      ]
     },
     "execution_count": 17,
     "metadata": {},
     "output_type": "execute_result"
    }
   ],
   "source": [
    "# Preview first 5 entries of persons_df\n",
    "persons_df.head()"
   ]
  },
  {
   "cell_type": "code",
   "execution_count": 18,
   "id": "70a8d46d-9271-4d7d-b688-a235466bd9c2",
   "metadata": {},
   "outputs": [
    {
     "name": "stdout",
     "output_type": "stream",
     "text": [
      "<class 'pandas.core.frame.DataFrame'>\n",
      "RangeIndex: 606648 entries, 0 to 606647\n",
      "Data columns (total 5 columns):\n",
      " #   Column              Non-Null Count   Dtype  \n",
      "---  ------              --------------   -----  \n",
      " 0   person_id           606648 non-null  object \n",
      " 1   primary_name        606648 non-null  object \n",
      " 2   birth_year          82736 non-null   float64\n",
      " 3   death_year          6783 non-null    float64\n",
      " 4   primary_profession  555308 non-null  object \n",
      "dtypes: float64(2), object(3)\n",
      "memory usage: 23.1+ MB\n"
     ]
    }
   ],
   "source": [
    "# View the overall shape, dtypes and null counts for each column in persons_df\n",
    "persons_df.info()"
   ]
  },
  {
   "cell_type": "markdown",
   "id": "36002648-c734-4e97-b260-8b737685be55",
   "metadata": {},
   "source": [
    "All I want from `persons_df` is the `person_id` and `primary_name` which neither have nulls. I don't need to handle any nulls here."
   ]
  },
  {
   "cell_type": "code",
   "execution_count": 19,
   "id": "4d09f568-0e8a-4205-b4b5-3473dce99707",
   "metadata": {},
   "outputs": [
    {
     "data": {
      "text/html": [
       "<div>\n",
       "<style scoped>\n",
       "    .dataframe tbody tr th:only-of-type {\n",
       "        vertical-align: middle;\n",
       "    }\n",
       "\n",
       "    .dataframe tbody tr th {\n",
       "        vertical-align: top;\n",
       "    }\n",
       "\n",
       "    .dataframe thead th {\n",
       "        text-align: right;\n",
       "    }\n",
       "</style>\n",
       "<table border=\"1\" class=\"dataframe\">\n",
       "  <thead>\n",
       "    <tr style=\"text-align: right;\">\n",
       "      <th></th>\n",
       "      <th>person_id</th>\n",
       "      <th>primary_name</th>\n",
       "      <th>birth_year</th>\n",
       "      <th>death_year</th>\n",
       "      <th>primary_profession</th>\n",
       "    </tr>\n",
       "  </thead>\n",
       "  <tbody>\n",
       "  </tbody>\n",
       "</table>\n",
       "</div>"
      ],
      "text/plain": [
       "Empty DataFrame\n",
       "Columns: [person_id, primary_name, birth_year, death_year, primary_profession]\n",
       "Index: []"
      ]
     },
     "execution_count": 19,
     "metadata": {},
     "output_type": "execute_result"
    }
   ],
   "source": [
    "# Check for duplicates in persons_df\n",
    "persons_df[persons_df.duplicated(subset='person_id')].head()"
   ]
  },
  {
   "cell_type": "markdown",
   "id": "85f42bd8-6546-4517-a233-6e79210cfb26",
   "metadata": {
    "jp-MarkdownHeadingCollapsed": true
   },
   "source": [
    "### Rotten Tomatoes"
   ]
  },
  {
   "cell_type": "code",
   "execution_count": 20,
   "id": "83bc62b8-794d-432d-8afb-3c4562ee6166",
   "metadata": {},
   "outputs": [
    {
     "data": {
      "text/html": [
       "<div>\n",
       "<style scoped>\n",
       "    .dataframe tbody tr th:only-of-type {\n",
       "        vertical-align: middle;\n",
       "    }\n",
       "\n",
       "    .dataframe tbody tr th {\n",
       "        vertical-align: top;\n",
       "    }\n",
       "\n",
       "    .dataframe thead th {\n",
       "        text-align: right;\n",
       "    }\n",
       "</style>\n",
       "<table border=\"1\" class=\"dataframe\">\n",
       "  <thead>\n",
       "    <tr style=\"text-align: right;\">\n",
       "      <th></th>\n",
       "      <th>id</th>\n",
       "      <th>synopsis</th>\n",
       "      <th>rating</th>\n",
       "      <th>genre</th>\n",
       "      <th>director</th>\n",
       "      <th>writer</th>\n",
       "      <th>theater_date</th>\n",
       "      <th>dvd_date</th>\n",
       "      <th>currency</th>\n",
       "      <th>box_office</th>\n",
       "      <th>runtime</th>\n",
       "      <th>studio</th>\n",
       "    </tr>\n",
       "  </thead>\n",
       "  <tbody>\n",
       "    <tr>\n",
       "      <th>0</th>\n",
       "      <td>1</td>\n",
       "      <td>This gritty, fast-paced, and innovative police...</td>\n",
       "      <td>R</td>\n",
       "      <td>Action and Adventure|Classics|Drama</td>\n",
       "      <td>William Friedkin</td>\n",
       "      <td>Ernest Tidyman</td>\n",
       "      <td>Oct 9, 1971</td>\n",
       "      <td>Sep 25, 2001</td>\n",
       "      <td>NaN</td>\n",
       "      <td>NaN</td>\n",
       "      <td>104 minutes</td>\n",
       "      <td>NaN</td>\n",
       "    </tr>\n",
       "    <tr>\n",
       "      <th>1</th>\n",
       "      <td>3</td>\n",
       "      <td>New York City, not-too-distant-future: Eric Pa...</td>\n",
       "      <td>R</td>\n",
       "      <td>Drama|Science Fiction and Fantasy</td>\n",
       "      <td>David Cronenberg</td>\n",
       "      <td>David Cronenberg|Don DeLillo</td>\n",
       "      <td>Aug 17, 2012</td>\n",
       "      <td>Jan 1, 2013</td>\n",
       "      <td>$</td>\n",
       "      <td>600,000</td>\n",
       "      <td>108 minutes</td>\n",
       "      <td>Entertainment One</td>\n",
       "    </tr>\n",
       "    <tr>\n",
       "      <th>2</th>\n",
       "      <td>5</td>\n",
       "      <td>Illeana Douglas delivers a superb performance ...</td>\n",
       "      <td>R</td>\n",
       "      <td>Drama|Musical and Performing Arts</td>\n",
       "      <td>Allison Anders</td>\n",
       "      <td>Allison Anders</td>\n",
       "      <td>Sep 13, 1996</td>\n",
       "      <td>Apr 18, 2000</td>\n",
       "      <td>NaN</td>\n",
       "      <td>NaN</td>\n",
       "      <td>116 minutes</td>\n",
       "      <td>NaN</td>\n",
       "    </tr>\n",
       "    <tr>\n",
       "      <th>3</th>\n",
       "      <td>6</td>\n",
       "      <td>Michael Douglas runs afoul of a treacherous su...</td>\n",
       "      <td>R</td>\n",
       "      <td>Drama|Mystery and Suspense</td>\n",
       "      <td>Barry Levinson</td>\n",
       "      <td>Paul Attanasio|Michael Crichton</td>\n",
       "      <td>Dec 9, 1994</td>\n",
       "      <td>Aug 27, 1997</td>\n",
       "      <td>NaN</td>\n",
       "      <td>NaN</td>\n",
       "      <td>128 minutes</td>\n",
       "      <td>NaN</td>\n",
       "    </tr>\n",
       "    <tr>\n",
       "      <th>4</th>\n",
       "      <td>7</td>\n",
       "      <td>NaN</td>\n",
       "      <td>NR</td>\n",
       "      <td>Drama|Romance</td>\n",
       "      <td>Rodney Bennett</td>\n",
       "      <td>Giles Cooper</td>\n",
       "      <td>NaN</td>\n",
       "      <td>NaN</td>\n",
       "      <td>NaN</td>\n",
       "      <td>NaN</td>\n",
       "      <td>200 minutes</td>\n",
       "      <td>NaN</td>\n",
       "    </tr>\n",
       "  </tbody>\n",
       "</table>\n",
       "</div>"
      ],
      "text/plain": [
       "   id                                           synopsis rating  \\\n",
       "0   1  This gritty, fast-paced, and innovative police...      R   \n",
       "1   3  New York City, not-too-distant-future: Eric Pa...      R   \n",
       "2   5  Illeana Douglas delivers a superb performance ...      R   \n",
       "3   6  Michael Douglas runs afoul of a treacherous su...      R   \n",
       "4   7                                                NaN     NR   \n",
       "\n",
       "                                 genre          director  \\\n",
       "0  Action and Adventure|Classics|Drama  William Friedkin   \n",
       "1    Drama|Science Fiction and Fantasy  David Cronenberg   \n",
       "2    Drama|Musical and Performing Arts    Allison Anders   \n",
       "3           Drama|Mystery and Suspense    Barry Levinson   \n",
       "4                        Drama|Romance    Rodney Bennett   \n",
       "\n",
       "                            writer  theater_date      dvd_date currency  \\\n",
       "0                   Ernest Tidyman   Oct 9, 1971  Sep 25, 2001      NaN   \n",
       "1     David Cronenberg|Don DeLillo  Aug 17, 2012   Jan 1, 2013        $   \n",
       "2                   Allison Anders  Sep 13, 1996  Apr 18, 2000      NaN   \n",
       "3  Paul Attanasio|Michael Crichton   Dec 9, 1994  Aug 27, 1997      NaN   \n",
       "4                     Giles Cooper           NaN           NaN      NaN   \n",
       "\n",
       "  box_office      runtime             studio  \n",
       "0        NaN  104 minutes                NaN  \n",
       "1    600,000  108 minutes  Entertainment One  \n",
       "2        NaN  116 minutes                NaN  \n",
       "3        NaN  128 minutes                NaN  \n",
       "4        NaN  200 minutes                NaN  "
      ]
     },
     "execution_count": 20,
     "metadata": {},
     "output_type": "execute_result"
    }
   ],
   "source": [
    "# Preview first 5 entries of rt_movie_info_df\n",
    "rt_movie_info_df.head()"
   ]
  },
  {
   "cell_type": "code",
   "execution_count": 21,
   "id": "4955c7a3-0230-4502-8312-5beec0397c3f",
   "metadata": {},
   "outputs": [
    {
     "name": "stdout",
     "output_type": "stream",
     "text": [
      "<class 'pandas.core.frame.DataFrame'>\n",
      "RangeIndex: 1560 entries, 0 to 1559\n",
      "Data columns (total 12 columns):\n",
      " #   Column        Non-Null Count  Dtype \n",
      "---  ------        --------------  ----- \n",
      " 0   id            1560 non-null   int64 \n",
      " 1   synopsis      1498 non-null   object\n",
      " 2   rating        1557 non-null   object\n",
      " 3   genre         1552 non-null   object\n",
      " 4   director      1361 non-null   object\n",
      " 5   writer        1111 non-null   object\n",
      " 6   theater_date  1201 non-null   object\n",
      " 7   dvd_date      1201 non-null   object\n",
      " 8   currency      340 non-null    object\n",
      " 9   box_office    340 non-null    object\n",
      " 10  runtime       1530 non-null   object\n",
      " 11  studio        494 non-null    object\n",
      "dtypes: int64(1), object(11)\n",
      "memory usage: 146.4+ KB\n"
     ]
    }
   ],
   "source": [
    "# View the overall shape, dtypes and null counts for each column in rt_move_info_df\n",
    "rt_movie_info_df.info()"
   ]
  },
  {
   "cell_type": "markdown",
   "id": "62ec7def-736e-4e56-b419-0cbd539dc15b",
   "metadata": {},
   "source": [
    "This dataset looks limited. There are only 1560 entries and there are no movie titles, rather id numbers. I am not able to match the id's with any movie title. Once I determine which director to use, I will then return to this dataset to determine the genre of the movie. I don't want to use `box_office` to determine success in this dataset because there are only 340 non-null values."
   ]
  },
  {
   "cell_type": "code",
   "execution_count": 22,
   "id": "f3333e50-0749-46df-88fa-7feea11ec726",
   "metadata": {},
   "outputs": [
    {
     "data": {
      "text/plain": [
       "rating\n",
       "R        521\n",
       "NR       503\n",
       "PG       240\n",
       "PG-13    235\n",
       "G         57\n",
       "NaN        3\n",
       "NC17       1\n",
       "Name: count, dtype: int64"
      ]
     },
     "execution_count": 22,
     "metadata": {},
     "output_type": "execute_result"
    }
   ],
   "source": [
    "# View the movie rating options and counts\n",
    "rt_movie_info_df['rating'].value_counts(dropna=False)"
   ]
  },
  {
   "cell_type": "markdown",
   "id": "bcff82de-f745-4603-b43c-e4513b61612e",
   "metadata": {},
   "source": [
    "There are only 3 null values in the `rating` column. They are listed as NaN so I believe it is safe to just drop them."
   ]
  },
  {
   "cell_type": "markdown",
   "id": "4b60e672-222c-44b4-86ff-78e2c9a05cc2",
   "metadata": {},
   "source": [
    "## Data Cleaning"
   ]
  },
  {
   "cell_type": "markdown",
   "id": "5114c269-64fa-4172-a42a-3deb018cd990",
   "metadata": {},
   "source": [
    "### Box Office Mojo"
   ]
  },
  {
   "cell_type": "code",
   "execution_count": 23,
   "id": "a513b358-53e7-4bd7-9956-f3ff6b33664a",
   "metadata": {},
   "outputs": [],
   "source": [
    "# Keep columns title, domestic_gross, and foreign_gross\n",
    "bom_df_clean = bom_df[['title', 'domestic_gross', 'foreign_gross']]"
   ]
  },
  {
   "cell_type": "code",
   "execution_count": 24,
   "id": "e4d42fa9-d767-467e-b149-16de54884464",
   "metadata": {},
   "outputs": [],
   "source": [
    "# Change nulls in foreign_gross and domestic_gross columns to $0\n",
    "bom_df_clean['foreign_gross'] = bom_df_clean['foreign_gross'].fillna(0)\n",
    "bom_df_clean['domestic_gross'] = bom_df_clean['domestic_gross'].fillna(0)\n",
    "\n",
    "# Remove commas in dollar amounts in foreign_gross\n",
    "bom_df_clean['foreign_gross'] = bom_df_clean['foreign_gross'].map(lambda x: str(x).replace(',',''))\n",
    "\n",
    "# Change datatype in foreign_gross to float\n",
    "bom_df_clean['foreign_gross'] = bom_df_clean['foreign_gross'].astype('float')"
   ]
  },
  {
   "cell_type": "code",
   "execution_count": 25,
   "id": "1903601b-d5cd-40b4-aa72-bfd3496940ef",
   "metadata": {},
   "outputs": [
    {
     "name": "stdout",
     "output_type": "stream",
     "text": [
      "<class 'pandas.core.frame.DataFrame'>\n",
      "RangeIndex: 3387 entries, 0 to 3386\n",
      "Data columns (total 3 columns):\n",
      " #   Column          Non-Null Count  Dtype  \n",
      "---  ------          --------------  -----  \n",
      " 0   title           3387 non-null   object \n",
      " 1   domestic_gross  3387 non-null   float64\n",
      " 2   foreign_gross   3387 non-null   float64\n",
      "dtypes: float64(2), object(1)\n",
      "memory usage: 79.5+ KB\n"
     ]
    }
   ],
   "source": [
    "# Check changes to nulls and data types\n",
    "bom_df_clean.info()"
   ]
  },
  {
   "cell_type": "code",
   "execution_count": 26,
   "id": "923da8ff-fd45-4ec1-84e8-571c787316c6",
   "metadata": {},
   "outputs": [
    {
     "data": {
      "text/html": [
       "<div>\n",
       "<style scoped>\n",
       "    .dataframe tbody tr th:only-of-type {\n",
       "        vertical-align: middle;\n",
       "    }\n",
       "\n",
       "    .dataframe tbody tr th {\n",
       "        vertical-align: top;\n",
       "    }\n",
       "\n",
       "    .dataframe thead th {\n",
       "        text-align: right;\n",
       "    }\n",
       "</style>\n",
       "<table border=\"1\" class=\"dataframe\">\n",
       "  <thead>\n",
       "    <tr style=\"text-align: right;\">\n",
       "      <th></th>\n",
       "      <th>title</th>\n",
       "      <th>domestic_gross</th>\n",
       "      <th>foreign_gross</th>\n",
       "      <th>total_gross</th>\n",
       "    </tr>\n",
       "  </thead>\n",
       "  <tbody>\n",
       "    <tr>\n",
       "      <th>0</th>\n",
       "      <td>Toy Story 3</td>\n",
       "      <td>415000000.0</td>\n",
       "      <td>652000000.0</td>\n",
       "      <td>1.067000e+09</td>\n",
       "    </tr>\n",
       "    <tr>\n",
       "      <th>1</th>\n",
       "      <td>Alice in Wonderland (2010)</td>\n",
       "      <td>334200000.0</td>\n",
       "      <td>691300000.0</td>\n",
       "      <td>1.025500e+09</td>\n",
       "    </tr>\n",
       "    <tr>\n",
       "      <th>2</th>\n",
       "      <td>Harry Potter and the Deathly Hallows Part 1</td>\n",
       "      <td>296000000.0</td>\n",
       "      <td>664300000.0</td>\n",
       "      <td>9.603000e+08</td>\n",
       "    </tr>\n",
       "    <tr>\n",
       "      <th>3</th>\n",
       "      <td>Inception</td>\n",
       "      <td>292600000.0</td>\n",
       "      <td>535700000.0</td>\n",
       "      <td>8.283000e+08</td>\n",
       "    </tr>\n",
       "    <tr>\n",
       "      <th>4</th>\n",
       "      <td>Shrek Forever After</td>\n",
       "      <td>238700000.0</td>\n",
       "      <td>513900000.0</td>\n",
       "      <td>7.526000e+08</td>\n",
       "    </tr>\n",
       "  </tbody>\n",
       "</table>\n",
       "</div>"
      ],
      "text/plain": [
       "                                         title  domestic_gross  foreign_gross  \\\n",
       "0                                  Toy Story 3     415000000.0    652000000.0   \n",
       "1                   Alice in Wonderland (2010)     334200000.0    691300000.0   \n",
       "2  Harry Potter and the Deathly Hallows Part 1     296000000.0    664300000.0   \n",
       "3                                    Inception     292600000.0    535700000.0   \n",
       "4                          Shrek Forever After     238700000.0    513900000.0   \n",
       "\n",
       "    total_gross  \n",
       "0  1.067000e+09  \n",
       "1  1.025500e+09  \n",
       "2  9.603000e+08  \n",
       "3  8.283000e+08  \n",
       "4  7.526000e+08  "
      ]
     },
     "execution_count": 26,
     "metadata": {},
     "output_type": "execute_result"
    }
   ],
   "source": [
    "# Create total_gross column to include sum of domestic_gross and foreign_gross\n",
    "bom_df_clean['total_gross'] = bom_df_clean['domestic_gross'] + bom_df_clean['foreign_gross']\n",
    "\n",
    "# Preview changes\n",
    "bom_df_clean.head()"
   ]
  },
  {
   "cell_type": "markdown",
   "id": "bf80cdaa-1e4e-4c6e-b8c6-6fe9cc21fdb9",
   "metadata": {},
   "source": [
    "### The Numbers"
   ]
  },
  {
   "cell_type": "code",
   "execution_count": 27,
   "id": "78ae6cde-8225-423c-923d-05c64a19f76a",
   "metadata": {},
   "outputs": [
    {
     "name": "stdout",
     "output_type": "stream",
     "text": [
      "<class 'pandas.core.frame.DataFrame'>\n",
      "RangeIndex: 5782 entries, 0 to 5781\n",
      "Data columns (total 6 columns):\n",
      " #   Column             Non-Null Count  Dtype \n",
      "---  ------             --------------  ----- \n",
      " 0   id                 5782 non-null   int64 \n",
      " 1   release_date       5782 non-null   object\n",
      " 2   movie              5782 non-null   object\n",
      " 3   production_budget  5782 non-null   object\n",
      " 4   domestic_gross     5782 non-null   object\n",
      " 5   worldwide_gross    5782 non-null   object\n",
      "dtypes: int64(1), object(5)\n",
      "memory usage: 271.2+ KB\n"
     ]
    }
   ],
   "source": [
    "budget_df.info()"
   ]
  },
  {
   "cell_type": "code",
   "execution_count": 28,
   "id": "30b5c091-8848-480f-8357-9dfbe8ab3071",
   "metadata": {},
   "outputs": [],
   "source": [
    "# Remove $ and commas from dollar values\n",
    "budget_df['production_budget'] = budget_df['production_budget'].map(lambda x: str(x).replace(',','').replace('$',''))\n",
    "budget_df['domestic_gross'] = budget_df['domestic_gross'].map(lambda x: str(x).replace(',','').replace('$',''))\n",
    "budget_df['worldwide_gross'] = budget_df['worldwide_gross'].map(lambda x: str(x).replace(',','').replace('$',''))\n",
    "\n",
    "\n",
    "# Convert 'production_budget', 'domestic_gross', and 'worldwide_gross' to int\n",
    "budget_df['production_budget'] = budget_df['production_budget'].astype('int')\n",
    "budget_df['domestic_gross'] = budget_df['domestic_gross'].astype('int')\n",
    "budget_df['worldwide_gross'] = budget_df['worldwide_gross'].astype('int')"
   ]
  },
  {
   "cell_type": "code",
   "execution_count": 29,
   "id": "e497a2a2-aa3b-4d85-9b40-a3733206d557",
   "metadata": {},
   "outputs": [],
   "source": [
    "# Create 'profit' column by subtracting 'production_budget' from 'worldwide_gross'\n",
    "budget_df['profit'] = budget_df['worldwide_gross'] - budget_df['production_budget']"
   ]
  },
  {
   "cell_type": "code",
   "execution_count": 30,
   "id": "2a705e98-a5ce-4477-892a-6d1a6379b314",
   "metadata": {},
   "outputs": [],
   "source": [
    "# Create 'release_month' column by taking month from 'release_date' column\n",
    "budget_df['release_month'] = budget_df['release_date'].map(lambda x: x[0:3])"
   ]
  },
  {
   "cell_type": "code",
   "execution_count": 31,
   "id": "a9320d31-d972-4e82-b3aa-ec9e1cb317b0",
   "metadata": {},
   "outputs": [
    {
     "data": {
      "text/html": [
       "<div>\n",
       "<style scoped>\n",
       "    .dataframe tbody tr th:only-of-type {\n",
       "        vertical-align: middle;\n",
       "    }\n",
       "\n",
       "    .dataframe tbody tr th {\n",
       "        vertical-align: top;\n",
       "    }\n",
       "\n",
       "    .dataframe thead th {\n",
       "        text-align: right;\n",
       "    }\n",
       "</style>\n",
       "<table border=\"1\" class=\"dataframe\">\n",
       "  <thead>\n",
       "    <tr style=\"text-align: right;\">\n",
       "      <th></th>\n",
       "      <th>id</th>\n",
       "      <th>release_date</th>\n",
       "      <th>movie</th>\n",
       "      <th>production_budget</th>\n",
       "      <th>domestic_gross</th>\n",
       "      <th>worldwide_gross</th>\n",
       "      <th>profit</th>\n",
       "      <th>release_month</th>\n",
       "    </tr>\n",
       "  </thead>\n",
       "  <tbody>\n",
       "    <tr>\n",
       "      <th>0</th>\n",
       "      <td>1</td>\n",
       "      <td>Dec 18, 2009</td>\n",
       "      <td>Avatar</td>\n",
       "      <td>425000000</td>\n",
       "      <td>760507625</td>\n",
       "      <td>2776345279</td>\n",
       "      <td>2351345279</td>\n",
       "      <td>Dec</td>\n",
       "    </tr>\n",
       "    <tr>\n",
       "      <th>1</th>\n",
       "      <td>2</td>\n",
       "      <td>May 20, 2011</td>\n",
       "      <td>Pirates of the Caribbean: On Stranger Tides</td>\n",
       "      <td>410600000</td>\n",
       "      <td>241063875</td>\n",
       "      <td>1045663875</td>\n",
       "      <td>635063875</td>\n",
       "      <td>May</td>\n",
       "    </tr>\n",
       "    <tr>\n",
       "      <th>2</th>\n",
       "      <td>3</td>\n",
       "      <td>Jun 7, 2019</td>\n",
       "      <td>Dark Phoenix</td>\n",
       "      <td>350000000</td>\n",
       "      <td>42762350</td>\n",
       "      <td>149762350</td>\n",
       "      <td>-200237650</td>\n",
       "      <td>Jun</td>\n",
       "    </tr>\n",
       "    <tr>\n",
       "      <th>3</th>\n",
       "      <td>4</td>\n",
       "      <td>May 1, 2015</td>\n",
       "      <td>Avengers: Age of Ultron</td>\n",
       "      <td>330600000</td>\n",
       "      <td>459005868</td>\n",
       "      <td>1403013963</td>\n",
       "      <td>1072413963</td>\n",
       "      <td>May</td>\n",
       "    </tr>\n",
       "    <tr>\n",
       "      <th>4</th>\n",
       "      <td>5</td>\n",
       "      <td>Dec 15, 2017</td>\n",
       "      <td>Star Wars Ep. VIII: The Last Jedi</td>\n",
       "      <td>317000000</td>\n",
       "      <td>620181382</td>\n",
       "      <td>1316721747</td>\n",
       "      <td>999721747</td>\n",
       "      <td>Dec</td>\n",
       "    </tr>\n",
       "    <tr>\n",
       "      <th>...</th>\n",
       "      <td>...</td>\n",
       "      <td>...</td>\n",
       "      <td>...</td>\n",
       "      <td>...</td>\n",
       "      <td>...</td>\n",
       "      <td>...</td>\n",
       "      <td>...</td>\n",
       "      <td>...</td>\n",
       "    </tr>\n",
       "    <tr>\n",
       "      <th>5777</th>\n",
       "      <td>78</td>\n",
       "      <td>Dec 31, 2018</td>\n",
       "      <td>Red 11</td>\n",
       "      <td>7000</td>\n",
       "      <td>0</td>\n",
       "      <td>0</td>\n",
       "      <td>-7000</td>\n",
       "      <td>Dec</td>\n",
       "    </tr>\n",
       "    <tr>\n",
       "      <th>5778</th>\n",
       "      <td>79</td>\n",
       "      <td>Apr 2, 1999</td>\n",
       "      <td>Following</td>\n",
       "      <td>6000</td>\n",
       "      <td>48482</td>\n",
       "      <td>240495</td>\n",
       "      <td>234495</td>\n",
       "      <td>Apr</td>\n",
       "    </tr>\n",
       "    <tr>\n",
       "      <th>5779</th>\n",
       "      <td>80</td>\n",
       "      <td>Jul 13, 2005</td>\n",
       "      <td>Return to the Land of Wonders</td>\n",
       "      <td>5000</td>\n",
       "      <td>1338</td>\n",
       "      <td>1338</td>\n",
       "      <td>-3662</td>\n",
       "      <td>Jul</td>\n",
       "    </tr>\n",
       "    <tr>\n",
       "      <th>5780</th>\n",
       "      <td>81</td>\n",
       "      <td>Sep 29, 2015</td>\n",
       "      <td>A Plague So Pleasant</td>\n",
       "      <td>1400</td>\n",
       "      <td>0</td>\n",
       "      <td>0</td>\n",
       "      <td>-1400</td>\n",
       "      <td>Sep</td>\n",
       "    </tr>\n",
       "    <tr>\n",
       "      <th>5781</th>\n",
       "      <td>82</td>\n",
       "      <td>Aug 5, 2005</td>\n",
       "      <td>My Date With Drew</td>\n",
       "      <td>1100</td>\n",
       "      <td>181041</td>\n",
       "      <td>181041</td>\n",
       "      <td>179941</td>\n",
       "      <td>Aug</td>\n",
       "    </tr>\n",
       "  </tbody>\n",
       "</table>\n",
       "<p>5782 rows × 8 columns</p>\n",
       "</div>"
      ],
      "text/plain": [
       "      id  release_date                                        movie  \\\n",
       "0      1  Dec 18, 2009                                       Avatar   \n",
       "1      2  May 20, 2011  Pirates of the Caribbean: On Stranger Tides   \n",
       "2      3   Jun 7, 2019                                 Dark Phoenix   \n",
       "3      4   May 1, 2015                      Avengers: Age of Ultron   \n",
       "4      5  Dec 15, 2017            Star Wars Ep. VIII: The Last Jedi   \n",
       "...   ..           ...                                          ...   \n",
       "5777  78  Dec 31, 2018                                       Red 11   \n",
       "5778  79   Apr 2, 1999                                    Following   \n",
       "5779  80  Jul 13, 2005                Return to the Land of Wonders   \n",
       "5780  81  Sep 29, 2015                         A Plague So Pleasant   \n",
       "5781  82   Aug 5, 2005                            My Date With Drew   \n",
       "\n",
       "      production_budget  domestic_gross  worldwide_gross      profit  \\\n",
       "0             425000000       760507625       2776345279  2351345279   \n",
       "1             410600000       241063875       1045663875   635063875   \n",
       "2             350000000        42762350        149762350  -200237650   \n",
       "3             330600000       459005868       1403013963  1072413963   \n",
       "4             317000000       620181382       1316721747   999721747   \n",
       "...                 ...             ...              ...         ...   \n",
       "5777               7000               0                0       -7000   \n",
       "5778               6000           48482           240495      234495   \n",
       "5779               5000            1338             1338       -3662   \n",
       "5780               1400               0                0       -1400   \n",
       "5781               1100          181041           181041      179941   \n",
       "\n",
       "     release_month  \n",
       "0              Dec  \n",
       "1              May  \n",
       "2              Jun  \n",
       "3              May  \n",
       "4              Dec  \n",
       "...            ...  \n",
       "5777           Dec  \n",
       "5778           Apr  \n",
       "5779           Jul  \n",
       "5780           Sep  \n",
       "5781           Aug  \n",
       "\n",
       "[5782 rows x 8 columns]"
      ]
     },
     "execution_count": 31,
     "metadata": {},
     "output_type": "execute_result"
    }
   ],
   "source": [
    "# Preview changes\n",
    "budget_df"
   ]
  },
  {
   "cell_type": "markdown",
   "id": "9652724e-8e45-40ed-a75f-c38d7848095f",
   "metadata": {},
   "source": [
    "### IMDB"
   ]
  },
  {
   "cell_type": "code",
   "execution_count": 32,
   "id": "7cc5d145-0925-4220-91f4-6432782eab44",
   "metadata": {},
   "outputs": [
    {
     "data": {
      "text/html": [
       "<div>\n",
       "<style scoped>\n",
       "    .dataframe tbody tr th:only-of-type {\n",
       "        vertical-align: middle;\n",
       "    }\n",
       "\n",
       "    .dataframe tbody tr th {\n",
       "        vertical-align: top;\n",
       "    }\n",
       "\n",
       "    .dataframe thead th {\n",
       "        text-align: right;\n",
       "    }\n",
       "</style>\n",
       "<table border=\"1\" class=\"dataframe\">\n",
       "  <thead>\n",
       "    <tr style=\"text-align: right;\">\n",
       "      <th></th>\n",
       "      <th>Movie_Title</th>\n",
       "      <th>Genres</th>\n",
       "      <th>Directors</th>\n",
       "    </tr>\n",
       "  </thead>\n",
       "  <tbody>\n",
       "    <tr>\n",
       "      <th>94907</th>\n",
       "      <td>Rock Men</td>\n",
       "      <td>Adventure, Documentary</td>\n",
       "      <td>H. Nelson Tracey</td>\n",
       "    </tr>\n",
       "    <tr>\n",
       "      <th>37133</th>\n",
       "      <td>Song of Silence</td>\n",
       "      <td>Drama</td>\n",
       "      <td>Zhuo Chen</td>\n",
       "    </tr>\n",
       "    <tr>\n",
       "      <th>115246</th>\n",
       "      <td>Ladies and Gentlewomen</td>\n",
       "      <td>Documentary</td>\n",
       "      <td>Malini Jeevarathnam</td>\n",
       "    </tr>\n",
       "    <tr>\n",
       "      <th>15867</th>\n",
       "      <td>The Little Engine That Could</td>\n",
       "      <td>Animation, Family</td>\n",
       "      <td>Elliot M. Bour</td>\n",
       "    </tr>\n",
       "    <tr>\n",
       "      <th>63745</th>\n",
       "      <td>Drawing the Line</td>\n",
       "      <td>Documentary</td>\n",
       "      <td>Matthew Blyth, Alaneo Gloor</td>\n",
       "    </tr>\n",
       "    <tr>\n",
       "      <th>23659</th>\n",
       "      <td>Xi ai ye pu</td>\n",
       "      <td>Comedy, Drama, Romance</td>\n",
       "      <td>Wilson Chin</td>\n",
       "    </tr>\n",
       "    <tr>\n",
       "      <th>43729</th>\n",
       "      <td>Shooting with John</td>\n",
       "      <td>Documentary, News</td>\n",
       "      <td>Sean Donnelly, John W. Yost</td>\n",
       "    </tr>\n",
       "    <tr>\n",
       "      <th>33547</th>\n",
       "      <td>Empty</td>\n",
       "      <td>Comedy, Drama, Fantasy</td>\n",
       "      <td>Shôgo Kusano</td>\n",
       "    </tr>\n",
       "    <tr>\n",
       "      <th>97973</th>\n",
       "      <td>Carry on Kesar</td>\n",
       "      <td>Comedy, Drama, Family</td>\n",
       "      <td>Vipul Mehta</td>\n",
       "    </tr>\n",
       "    <tr>\n",
       "      <th>53288</th>\n",
       "      <td>Uncle John</td>\n",
       "      <td>Crime, Drama, Mystery</td>\n",
       "      <td>Steven Piet</td>\n",
       "    </tr>\n",
       "    <tr>\n",
       "      <th>14980</th>\n",
       "      <td>Un jour mon père viendra</td>\n",
       "      <td>Comedy</td>\n",
       "      <td>Martin Valente</td>\n",
       "    </tr>\n",
       "    <tr>\n",
       "      <th>13545</th>\n",
       "      <td>Nightstars</td>\n",
       "      <td>Comedy, Drama</td>\n",
       "      <td>Rahmin Atarod</td>\n",
       "    </tr>\n",
       "    <tr>\n",
       "      <th>132377</th>\n",
       "      <td>The Weeping House of Qala</td>\n",
       "      <td>Drama, Horror, Mystery</td>\n",
       "      <td>Mark Doneo</td>\n",
       "    </tr>\n",
       "    <tr>\n",
       "      <th>126920</th>\n",
       "      <td>From the End Into the Beginning</td>\n",
       "      <td>Adventure, Drama, Romance</td>\n",
       "      <td>Paige Suzanne</td>\n",
       "    </tr>\n",
       "    <tr>\n",
       "      <th>117621</th>\n",
       "      <td>Living in Demmin</td>\n",
       "      <td>Biography, Documentary, History</td>\n",
       "      <td>Martin Farkas</td>\n",
       "    </tr>\n",
       "    <tr>\n",
       "      <th>87905</th>\n",
       "      <td>Travelling Light</td>\n",
       "      <td>Documentary</td>\n",
       "      <td>Conxi Fornieles</td>\n",
       "    </tr>\n",
       "    <tr>\n",
       "      <th>45355</th>\n",
       "      <td>Mancanza - Studio</td>\n",
       "      <td>Drama</td>\n",
       "      <td>Stefano Odoardi</td>\n",
       "    </tr>\n",
       "    <tr>\n",
       "      <th>73988</th>\n",
       "      <td>Conversations with Scleroderma</td>\n",
       "      <td>Biography</td>\n",
       "      <td>Kelly C. Ryan</td>\n",
       "    </tr>\n",
       "    <tr>\n",
       "      <th>16551</th>\n",
       "      <td>Inspector Drake: The Movie</td>\n",
       "      <td>Comedy</td>\n",
       "      <td>David Tristram</td>\n",
       "    </tr>\n",
       "    <tr>\n",
       "      <th>92467</th>\n",
       "      <td>Much Ado About Nothing</td>\n",
       "      <td>Comedy, Romance</td>\n",
       "      <td>Robert Delamere</td>\n",
       "    </tr>\n",
       "  </tbody>\n",
       "</table>\n",
       "</div>"
      ],
      "text/plain": [
       "                            Movie_Title                           Genres  \\\n",
       "94907                          Rock Men           Adventure, Documentary   \n",
       "37133                   Song of Silence                            Drama   \n",
       "115246           Ladies and Gentlewomen                      Documentary   \n",
       "15867      The Little Engine That Could                Animation, Family   \n",
       "63745                  Drawing the Line                      Documentary   \n",
       "23659                       Xi ai ye pu           Comedy, Drama, Romance   \n",
       "43729                Shooting with John                Documentary, News   \n",
       "33547                             Empty           Comedy, Drama, Fantasy   \n",
       "97973                    Carry on Kesar            Comedy, Drama, Family   \n",
       "53288                        Uncle John            Crime, Drama, Mystery   \n",
       "14980          Un jour mon père viendra                           Comedy   \n",
       "13545                        Nightstars                    Comedy, Drama   \n",
       "132377        The Weeping House of Qala           Drama, Horror, Mystery   \n",
       "126920  From the End Into the Beginning        Adventure, Drama, Romance   \n",
       "117621                 Living in Demmin  Biography, Documentary, History   \n",
       "87905                  Travelling Light                      Documentary   \n",
       "45355                 Mancanza - Studio                            Drama   \n",
       "73988    Conversations with Scleroderma                        Biography   \n",
       "16551        Inspector Drake: The Movie                           Comedy   \n",
       "92467            Much Ado About Nothing                  Comedy, Romance   \n",
       "\n",
       "                          Directors  \n",
       "94907              H. Nelson Tracey  \n",
       "37133                     Zhuo Chen  \n",
       "115246          Malini Jeevarathnam  \n",
       "15867                Elliot M. Bour  \n",
       "63745   Matthew Blyth, Alaneo Gloor  \n",
       "23659                   Wilson Chin  \n",
       "43729   Sean Donnelly, John W. Yost  \n",
       "33547                  Shôgo Kusano  \n",
       "97973                   Vipul Mehta  \n",
       "53288                   Steven Piet  \n",
       "14980                Martin Valente  \n",
       "13545                 Rahmin Atarod  \n",
       "132377                   Mark Doneo  \n",
       "126920                Paige Suzanne  \n",
       "117621                Martin Farkas  \n",
       "87905               Conxi Fornieles  \n",
       "45355               Stefano Odoardi  \n",
       "73988                 Kelly C. Ryan  \n",
       "16551                David Tristram  \n",
       "92467               Robert Delamere  "
      ]
     },
     "execution_count": 32,
     "metadata": {},
     "output_type": "execute_result"
    }
   ],
   "source": [
    "# Join the three tables into one dataframe\n",
    "# Add all directors for one movie on the same line seperated by a comma and a space\n",
    "\n",
    "query_imdb = \"\"\"\n",
    "\n",
    "SELECT mb.primary_title AS Movie_Title, replace(mb.genres, ',', ', ') AS Genres, replace(GROUP_CONCAT(DISTINCT p.primary_name),',', ', ') AS Directors\n",
    "  FROM movie_basics AS mb\n",
    "  JOIN directors AS d\n",
    " USING (movie_id)\n",
    "  JOIN persons AS p\n",
    " USING (person_id)\n",
    "GROUP BY movie_id\n",
    "\n",
    "\"\"\"\n",
    "\n",
    "imdb_df = pd.read_sql(query_imdb, conn)\n",
    "\n",
    "imdb_df.sample(20)\n"
   ]
  },
  {
   "cell_type": "code",
   "execution_count": 33,
   "id": "92f0ab1f-9342-4fc7-bcec-b9c9650c39c5",
   "metadata": {},
   "outputs": [
    {
     "name": "stdout",
     "output_type": "stream",
     "text": [
      "<class 'pandas.core.frame.DataFrame'>\n",
      "RangeIndex: 140416 entries, 0 to 140415\n",
      "Data columns (total 3 columns):\n",
      " #   Column       Non-Null Count   Dtype \n",
      "---  ------       --------------   ----- \n",
      " 0   Movie_Title  140416 non-null  object\n",
      " 1   Genres       137238 non-null  object\n",
      " 2   Directors    140416 non-null  object\n",
      "dtypes: object(3)\n",
      "memory usage: 3.2+ MB\n"
     ]
    }
   ],
   "source": [
    "imdb_df.info()"
   ]
  },
  {
   "cell_type": "markdown",
   "id": "fd534977-933d-44f0-b94b-16f73e239e38",
   "metadata": {
    "jp-MarkdownHeadingCollapsed": true
   },
   "source": [
    "### Rotten Tomatoes"
   ]
  },
  {
   "cell_type": "code",
   "execution_count": 34,
   "id": "f851be9c-abf6-4c58-bcfc-071cc6dac599",
   "metadata": {},
   "outputs": [],
   "source": [
    "##DELETE SECTION"
   ]
  },
  {
   "cell_type": "code",
   "execution_count": 35,
   "id": "fe6118be-2fca-45b1-887c-d13cc13b2ac5",
   "metadata": {},
   "outputs": [],
   "source": [
    "rt_movie_info_df_clean = rt_movie_info_df[['id', 'rating', 'director', 'box_office']]"
   ]
  },
  {
   "cell_type": "code",
   "execution_count": 36,
   "id": "9150ae84-30fb-4443-ba06-3c08ae48a32f",
   "metadata": {},
   "outputs": [],
   "source": [
    "# Drop nulls from 'rating' column\n",
    "rt_movie_info_df_clean.dropna(subset='rating', inplace=True)"
   ]
  },
  {
   "cell_type": "code",
   "execution_count": 37,
   "id": "aa23b998-8729-42b7-a8d3-6e618e5ce3ad",
   "metadata": {},
   "outputs": [
    {
     "name": "stdout",
     "output_type": "stream",
     "text": [
      "<class 'pandas.core.frame.DataFrame'>\n",
      "Index: 1557 entries, 0 to 1559\n",
      "Data columns (total 4 columns):\n",
      " #   Column      Non-Null Count  Dtype \n",
      "---  ------      --------------  ----- \n",
      " 0   id          1557 non-null   int64 \n",
      " 1   rating      1557 non-null   object\n",
      " 2   director    1361 non-null   object\n",
      " 3   box_office  340 non-null    object\n",
      "dtypes: int64(1), object(3)\n",
      "memory usage: 60.8+ KB\n"
     ]
    }
   ],
   "source": [
    "# Check nulls\n",
    "rt_movie_info_df_clean.info()"
   ]
  },
  {
   "cell_type": "code",
   "execution_count": 38,
   "id": "67eed545-aa5d-477a-be25-02507e7491d9",
   "metadata": {},
   "outputs": [
    {
     "data": {
      "text/html": [
       "<div>\n",
       "<style scoped>\n",
       "    .dataframe tbody tr th:only-of-type {\n",
       "        vertical-align: middle;\n",
       "    }\n",
       "\n",
       "    .dataframe tbody tr th {\n",
       "        vertical-align: top;\n",
       "    }\n",
       "\n",
       "    .dataframe thead th {\n",
       "        text-align: right;\n",
       "    }\n",
       "</style>\n",
       "<table border=\"1\" class=\"dataframe\">\n",
       "  <thead>\n",
       "    <tr style=\"text-align: right;\">\n",
       "      <th></th>\n",
       "      <th>id</th>\n",
       "      <th>rating</th>\n",
       "      <th>director</th>\n",
       "      <th>box_office</th>\n",
       "    </tr>\n",
       "  </thead>\n",
       "  <tbody>\n",
       "    <tr>\n",
       "      <th>0</th>\n",
       "      <td>1</td>\n",
       "      <td>R</td>\n",
       "      <td>William Friedkin</td>\n",
       "      <td>NaN</td>\n",
       "    </tr>\n",
       "    <tr>\n",
       "      <th>1</th>\n",
       "      <td>3</td>\n",
       "      <td>R</td>\n",
       "      <td>David Cronenberg</td>\n",
       "      <td>600,000</td>\n",
       "    </tr>\n",
       "    <tr>\n",
       "      <th>2</th>\n",
       "      <td>5</td>\n",
       "      <td>R</td>\n",
       "      <td>Allison Anders</td>\n",
       "      <td>NaN</td>\n",
       "    </tr>\n",
       "    <tr>\n",
       "      <th>3</th>\n",
       "      <td>6</td>\n",
       "      <td>R</td>\n",
       "      <td>Barry Levinson</td>\n",
       "      <td>NaN</td>\n",
       "    </tr>\n",
       "    <tr>\n",
       "      <th>4</th>\n",
       "      <td>7</td>\n",
       "      <td>NR</td>\n",
       "      <td>Rodney Bennett</td>\n",
       "      <td>NaN</td>\n",
       "    </tr>\n",
       "  </tbody>\n",
       "</table>\n",
       "</div>"
      ],
      "text/plain": [
       "   id rating          director box_office\n",
       "0   1      R  William Friedkin        NaN\n",
       "1   3      R  David Cronenberg    600,000\n",
       "2   5      R    Allison Anders        NaN\n",
       "3   6      R    Barry Levinson        NaN\n",
       "4   7     NR    Rodney Bennett        NaN"
      ]
     },
     "execution_count": 38,
     "metadata": {},
     "output_type": "execute_result"
    }
   ],
   "source": [
    "# Preview changes\n",
    "rt_movie_info_df_clean.head()"
   ]
  },
  {
   "cell_type": "markdown",
   "id": "11d92972-9b94-44ec-8179-c38f5d6d215e",
   "metadata": {},
   "source": [
    "### Merge Datasets"
   ]
  },
  {
   "cell_type": "code",
   "execution_count": 39,
   "id": "4381efb2-f3a3-4b62-9b4e-ff0a7dd1ec63",
   "metadata": {},
   "outputs": [],
   "source": [
    "from pandasql import sqldf\n",
    "pysqldf = lambda q: sqldf(q,globals())\n",
    "q = \"\"\"\n",
    "SELECT bom.title, imdb.Genres, imdb.Directors, budget.release_month, budget.profit\n",
    "FROM bom_df_clean AS bom\n",
    "JOIN budget_df AS budget\n",
    "  ON bom.title = budget.movie\n",
    "JOIN imdb_df AS imdb\n",
    "  ON budget.movie = imdb.Movie_Title\n",
    "\"\"\"\n",
    "\n",
    "movies_data = pysqldf(q)"
   ]
  },
  {
   "cell_type": "code",
   "execution_count": 40,
   "id": "89f19c06-7ceb-4ba0-84db-df2193dec335",
   "metadata": {},
   "outputs": [],
   "source": [
    "# Standardize column names\n",
    "movies_data.columns = movies_data.columns.map(lambda x: x.title())"
   ]
  },
  {
   "cell_type": "code",
   "execution_count": 41,
   "id": "b704f6e7-d430-4bae-8219-a5012310f639",
   "metadata": {},
   "outputs": [],
   "source": [
    "# Order months in Release_Month column by calendar year\n",
    "months = [\"Jan\", \"Feb\", \"Mar\", \"Apr\", \"May\", \"Jun\", \n",
    "          \"Jul\", \"Aug\", \"Sep\", \"Oct\", \"Nov\", \"Dec\"]\n",
    "movies_data['Release_Month'] = pd.Categorical(movies_data['Release_Month'], categories=months, ordered=True)"
   ]
  },
  {
   "cell_type": "code",
   "execution_count": 42,
   "id": "10fd4e69-006c-4863-9b8e-8eafa1499e74",
   "metadata": {},
   "outputs": [
    {
     "data": {
      "text/plain": [
       "Release_Month\n",
       "Nov    162\n",
       "Dec    160\n",
       "Oct    154\n",
       "Jun    139\n",
       "Sep    139\n",
       "Mar    135\n",
       "Jul    128\n",
       "Apr    123\n",
       "Aug    121\n",
       "May    112\n",
       "Jan    111\n",
       "Feb     87\n",
       "Name: count, dtype: int64"
      ]
     },
     "execution_count": 42,
     "metadata": {},
     "output_type": "execute_result"
    }
   ],
   "source": [
    "movies_data['Release_Month'].value_counts()"
   ]
  },
  {
   "cell_type": "code",
   "execution_count": 43,
   "id": "42074533-067c-41ef-9326-4a62f43f5b71",
   "metadata": {},
   "outputs": [],
   "source": [
    "# Convert format of Profit column to currency\n",
    "movies_data['Profit'] = movies_data['Profit'].map('${:,.0f}'.format)"
   ]
  },
  {
   "cell_type": "code",
   "execution_count": 44,
   "id": "4f9eb7ee-2680-45eb-b4ac-4d302dd39051",
   "metadata": {},
   "outputs": [
    {
     "name": "stdout",
     "output_type": "stream",
     "text": [
      "<class 'pandas.core.frame.DataFrame'>\n",
      "RangeIndex: 1571 entries, 0 to 1570\n",
      "Data columns (total 5 columns):\n",
      " #   Column         Non-Null Count  Dtype   \n",
      "---  ------         --------------  -----   \n",
      " 0   Title          1571 non-null   object  \n",
      " 1   Genres         1558 non-null   object  \n",
      " 2   Directors      1571 non-null   object  \n",
      " 3   Release_Month  1571 non-null   category\n",
      " 4   Profit         1571 non-null   object  \n",
      "dtypes: category(1), object(4)\n",
      "memory usage: 51.1+ KB\n"
     ]
    }
   ],
   "source": [
    "# View overview of columns and data in movies_data\n",
    "movies_data.info()"
   ]
  },
  {
   "cell_type": "code",
   "execution_count": 45,
   "id": "f36f17af-0ae6-4c7d-940e-90d8545a2186",
   "metadata": {},
   "outputs": [
    {
     "data": {
      "text/html": [
       "<div>\n",
       "<style scoped>\n",
       "    .dataframe tbody tr th:only-of-type {\n",
       "        vertical-align: middle;\n",
       "    }\n",
       "\n",
       "    .dataframe tbody tr th {\n",
       "        vertical-align: top;\n",
       "    }\n",
       "\n",
       "    .dataframe thead th {\n",
       "        text-align: right;\n",
       "    }\n",
       "</style>\n",
       "<table border=\"1\" class=\"dataframe\">\n",
       "  <thead>\n",
       "    <tr style=\"text-align: right;\">\n",
       "      <th></th>\n",
       "      <th>Title</th>\n",
       "      <th>Genres</th>\n",
       "      <th>Directors</th>\n",
       "      <th>Release_Month</th>\n",
       "      <th>Profit</th>\n",
       "    </tr>\n",
       "  </thead>\n",
       "  <tbody>\n",
       "    <tr>\n",
       "      <th>0</th>\n",
       "      <td>Toy Story 3</td>\n",
       "      <td>Adventure, Animation, Comedy</td>\n",
       "      <td>Lee Unkrich</td>\n",
       "      <td>Jun</td>\n",
       "      <td>$868,879,522</td>\n",
       "    </tr>\n",
       "    <tr>\n",
       "      <th>1</th>\n",
       "      <td>Inception</td>\n",
       "      <td>Action, Adventure, Sci-Fi</td>\n",
       "      <td>Christopher Nolan</td>\n",
       "      <td>Jul</td>\n",
       "      <td>$675,524,642</td>\n",
       "    </tr>\n",
       "    <tr>\n",
       "      <th>2</th>\n",
       "      <td>Shrek Forever After</td>\n",
       "      <td>Adventure, Animation, Comedy</td>\n",
       "      <td>Mike Mitchell</td>\n",
       "      <td>May</td>\n",
       "      <td>$591,244,673</td>\n",
       "    </tr>\n",
       "    <tr>\n",
       "      <th>3</th>\n",
       "      <td>The Twilight Saga: Eclipse</td>\n",
       "      <td>Adventure, Drama, Fantasy</td>\n",
       "      <td>David Slade</td>\n",
       "      <td>Jun</td>\n",
       "      <td>$638,102,828</td>\n",
       "    </tr>\n",
       "    <tr>\n",
       "      <th>4</th>\n",
       "      <td>Iron Man 2</td>\n",
       "      <td>Action, Adventure, Sci-Fi</td>\n",
       "      <td>Jon Favreau</td>\n",
       "      <td>May</td>\n",
       "      <td>$451,156,389</td>\n",
       "    </tr>\n",
       "  </tbody>\n",
       "</table>\n",
       "</div>"
      ],
      "text/plain": [
       "                        Title                        Genres  \\\n",
       "0                 Toy Story 3  Adventure, Animation, Comedy   \n",
       "1                   Inception     Action, Adventure, Sci-Fi   \n",
       "2         Shrek Forever After  Adventure, Animation, Comedy   \n",
       "3  The Twilight Saga: Eclipse     Adventure, Drama, Fantasy   \n",
       "4                  Iron Man 2     Action, Adventure, Sci-Fi   \n",
       "\n",
       "           Directors Release_Month        Profit  \n",
       "0        Lee Unkrich           Jun  $868,879,522  \n",
       "1  Christopher Nolan           Jul  $675,524,642  \n",
       "2      Mike Mitchell           May  $591,244,673  \n",
       "3        David Slade           Jun  $638,102,828  \n",
       "4        Jon Favreau           May  $451,156,389  "
      ]
     },
     "execution_count": 45,
     "metadata": {},
     "output_type": "execute_result"
    }
   ],
   "source": [
    "# Preview first 5 lines of movies_data\n",
    "movies_data.head()"
   ]
  },
  {
   "cell_type": "markdown",
   "id": "afc97a3d-0205-400b-ae88-ab92d511946a",
   "metadata": {},
   "source": [
    "# Exploratory Data Analysis"
   ]
  },
  {
   "cell_type": "markdown",
   "id": "1a5230a0-0f91-4135-a24a-5784e5b2c28b",
   "metadata": {},
   "source": []
  },
  {
   "cell_type": "code",
   "execution_count": 46,
   "id": "aa1aefd2-3162-427b-82e5-71a17095faf6",
   "metadata": {},
   "outputs": [],
   "source": [
    "# Set theme for graphs\n",
    "sns.set_theme(context='notebook', style='whitegrid', palette='husl')"
   ]
  },
  {
   "cell_type": "markdown",
   "id": "3bba60bd-7a8d-4728-88fb-788d8e76f306",
   "metadata": {},
   "source": [
    "### Movie Profits By *Genre*"
   ]
  },
  {
   "cell_type": "code",
   "execution_count": 47,
   "id": "9ee72d54-39a5-43d7-a596-c1a8cda17ea6",
   "metadata": {},
   "outputs": [
    {
     "ename": "TypeError",
     "evalue": "Neither the `x` nor `y` variable appears to be numeric.",
     "output_type": "error",
     "traceback": [
      "\u001b[0;31m---------------------------------------------------------------------------\u001b[0m",
      "\u001b[0;31mTypeError\u001b[0m                                 Traceback (most recent call last)",
      "Cell \u001b[0;32mIn[47], line 11\u001b[0m\n\u001b[1;32m      8\u001b[0m profits_by_genre \u001b[38;5;241m=\u001b[39m profits_by_genre\u001b[38;5;241m.\u001b[39mreset_index()\u001b[38;5;241m.\u001b[39msort_values(by\u001b[38;5;241m=\u001b[39m\u001b[38;5;124m'\u001b[39m\u001b[38;5;124mProfit\u001b[39m\u001b[38;5;124m'\u001b[39m, ascending\u001b[38;5;241m=\u001b[39m\u001b[38;5;28;01mFalse\u001b[39;00m)\n\u001b[1;32m     10\u001b[0m \u001b[38;5;66;03m# Plot profits_by_genre\u001b[39;00m\n\u001b[0;32m---> 11\u001b[0m ax \u001b[38;5;241m=\u001b[39m sns\u001b[38;5;241m.\u001b[39mbarplot(data\u001b[38;5;241m=\u001b[39mprofits_by_genre, x\u001b[38;5;241m=\u001b[39m\u001b[38;5;124m'\u001b[39m\u001b[38;5;124mGenre\u001b[39m\u001b[38;5;124m'\u001b[39m, y\u001b[38;5;241m=\u001b[39m\u001b[38;5;124m'\u001b[39m\u001b[38;5;124mProfit\u001b[39m\u001b[38;5;124m'\u001b[39m)\n\u001b[1;32m     13\u001b[0m \u001b[38;5;66;03m# Set axes labels, title, and rotate x ticks\u001b[39;00m\n\u001b[1;32m     14\u001b[0m ax\u001b[38;5;241m.\u001b[39mset(xlabel\u001b[38;5;241m=\u001b[39m\u001b[38;5;124m'\u001b[39m\u001b[38;5;124mGenres\u001b[39m\u001b[38;5;124m'\u001b[39m, ylabel\u001b[38;5;241m=\u001b[39m\u001b[38;5;124m'\u001b[39m\u001b[38;5;124mProfit\u001b[39m\u001b[38;5;124m'\u001b[39m, title\u001b[38;5;241m=\u001b[39m\u001b[38;5;124m'\u001b[39m\u001b[38;5;124mMovie Profits By Genres\u001b[39m\u001b[38;5;124m'\u001b[39m)\n",
      "File \u001b[0;32m~/anaconda3/lib/python3.11/site-packages/seaborn/categorical.py:2755\u001b[0m, in \u001b[0;36mbarplot\u001b[0;34m(data, x, y, hue, order, hue_order, estimator, errorbar, n_boot, units, seed, orient, color, palette, saturation, width, errcolor, errwidth, capsize, dodge, ci, ax, **kwargs)\u001b[0m\n\u001b[1;32m   2752\u001b[0m \u001b[38;5;28;01mif\u001b[39;00m estimator \u001b[38;5;129;01mis\u001b[39;00m \u001b[38;5;28mlen\u001b[39m:\n\u001b[1;32m   2753\u001b[0m     estimator \u001b[38;5;241m=\u001b[39m \u001b[38;5;124m\"\u001b[39m\u001b[38;5;124msize\u001b[39m\u001b[38;5;124m\"\u001b[39m\n\u001b[0;32m-> 2755\u001b[0m plotter \u001b[38;5;241m=\u001b[39m _BarPlotter(x, y, hue, data, order, hue_order,\n\u001b[1;32m   2756\u001b[0m                       estimator, errorbar, n_boot, units, seed,\n\u001b[1;32m   2757\u001b[0m                       orient, color, palette, saturation,\n\u001b[1;32m   2758\u001b[0m                       width, errcolor, errwidth, capsize, dodge)\n\u001b[1;32m   2760\u001b[0m \u001b[38;5;28;01mif\u001b[39;00m ax \u001b[38;5;129;01mis\u001b[39;00m \u001b[38;5;28;01mNone\u001b[39;00m:\n\u001b[1;32m   2761\u001b[0m     ax \u001b[38;5;241m=\u001b[39m plt\u001b[38;5;241m.\u001b[39mgca()\n",
      "File \u001b[0;32m~/anaconda3/lib/python3.11/site-packages/seaborn/categorical.py:1530\u001b[0m, in \u001b[0;36m_BarPlotter.__init__\u001b[0;34m(self, x, y, hue, data, order, hue_order, estimator, errorbar, n_boot, units, seed, orient, color, palette, saturation, width, errcolor, errwidth, capsize, dodge)\u001b[0m\n\u001b[1;32m   1525\u001b[0m \u001b[38;5;28;01mdef\u001b[39;00m \u001b[38;5;21m__init__\u001b[39m(\u001b[38;5;28mself\u001b[39m, x, y, hue, data, order, hue_order,\n\u001b[1;32m   1526\u001b[0m              estimator, errorbar, n_boot, units, seed,\n\u001b[1;32m   1527\u001b[0m              orient, color, palette, saturation, width,\n\u001b[1;32m   1528\u001b[0m              errcolor, errwidth, capsize, dodge):\n\u001b[1;32m   1529\u001b[0m \u001b[38;5;250m    \u001b[39m\u001b[38;5;124;03m\"\"\"Initialize the plotter.\"\"\"\u001b[39;00m\n\u001b[0;32m-> 1530\u001b[0m     \u001b[38;5;28mself\u001b[39m\u001b[38;5;241m.\u001b[39mestablish_variables(x, y, hue, data, orient,\n\u001b[1;32m   1531\u001b[0m                              order, hue_order, units)\n\u001b[1;32m   1532\u001b[0m     \u001b[38;5;28mself\u001b[39m\u001b[38;5;241m.\u001b[39mestablish_colors(color, palette, saturation)\n\u001b[1;32m   1533\u001b[0m     \u001b[38;5;28mself\u001b[39m\u001b[38;5;241m.\u001b[39mestimate_statistic(estimator, errorbar, n_boot, seed)\n",
      "File \u001b[0;32m~/anaconda3/lib/python3.11/site-packages/seaborn/categorical.py:544\u001b[0m, in \u001b[0;36m_CategoricalPlotter.establish_variables\u001b[0;34m(self, x, y, hue, data, orient, order, hue_order, units)\u001b[0m\n\u001b[1;32m    541\u001b[0m         \u001b[38;5;28;01mraise\u001b[39;00m \u001b[38;5;167;01mValueError\u001b[39;00m(err)\n\u001b[1;32m    543\u001b[0m \u001b[38;5;66;03m# Figure out the plotting orientation\u001b[39;00m\n\u001b[0;32m--> 544\u001b[0m orient \u001b[38;5;241m=\u001b[39m infer_orient(\n\u001b[1;32m    545\u001b[0m     x, y, orient, require_numeric\u001b[38;5;241m=\u001b[39m\u001b[38;5;28mself\u001b[39m\u001b[38;5;241m.\u001b[39mrequire_numeric\n\u001b[1;32m    546\u001b[0m )\n\u001b[1;32m    548\u001b[0m \u001b[38;5;66;03m# Option 2a:\u001b[39;00m\n\u001b[1;32m    549\u001b[0m \u001b[38;5;66;03m# We are plotting a single set of data\u001b[39;00m\n\u001b[1;32m    550\u001b[0m \u001b[38;5;66;03m# ------------------------------------\u001b[39;00m\n\u001b[1;32m    551\u001b[0m \u001b[38;5;28;01mif\u001b[39;00m x \u001b[38;5;129;01mis\u001b[39;00m \u001b[38;5;28;01mNone\u001b[39;00m \u001b[38;5;129;01mor\u001b[39;00m y \u001b[38;5;129;01mis\u001b[39;00m \u001b[38;5;28;01mNone\u001b[39;00m:\n\u001b[1;32m    552\u001b[0m \n\u001b[1;32m    553\u001b[0m     \u001b[38;5;66;03m# Determine where the data are\u001b[39;00m\n",
      "File \u001b[0;32m~/anaconda3/lib/python3.11/site-packages/seaborn/_oldcore.py:1632\u001b[0m, in \u001b[0;36minfer_orient\u001b[0;34m(x, y, orient, require_numeric)\u001b[0m\n\u001b[1;32m   1630\u001b[0m \u001b[38;5;28;01melif\u001b[39;00m require_numeric \u001b[38;5;129;01mand\u001b[39;00m \u001b[38;5;124m\"\u001b[39m\u001b[38;5;124mnumeric\u001b[39m\u001b[38;5;124m\"\u001b[39m \u001b[38;5;129;01mnot\u001b[39;00m \u001b[38;5;129;01min\u001b[39;00m (x_type, y_type):\n\u001b[1;32m   1631\u001b[0m     err \u001b[38;5;241m=\u001b[39m \u001b[38;5;124m\"\u001b[39m\u001b[38;5;124mNeither the `x` nor `y` variable appears to be numeric.\u001b[39m\u001b[38;5;124m\"\u001b[39m\n\u001b[0;32m-> 1632\u001b[0m     \u001b[38;5;28;01mraise\u001b[39;00m \u001b[38;5;167;01mTypeError\u001b[39;00m(err)\n\u001b[1;32m   1634\u001b[0m \u001b[38;5;28;01melse\u001b[39;00m:\n\u001b[1;32m   1635\u001b[0m     \u001b[38;5;28;01mreturn\u001b[39;00m \u001b[38;5;124m\"\u001b[39m\u001b[38;5;124mv\u001b[39m\u001b[38;5;124m\"\u001b[39m\n",
      "\u001b[0;31mTypeError\u001b[0m: Neither the `x` nor `y` variable appears to be numeric."
     ]
    }
   ],
   "source": [
    "# Split the \"Genres\" column into multiple rows, so each genre has its own row\n",
    "df_genres = movies_data.assign(Genre=movies_data['Genres'].str.split(', ')).explode('Genre')\n",
    "\n",
    "# Group by genre and sum the profits\n",
    "profits_by_genre = df_genres.groupby('Genre')['Profit'].sum()\n",
    "\n",
    "# Sort genres descending by greatest profits\n",
    "profits_by_genre = profits_by_genre.reset_index().sort_values(by='Profit', ascending=False)\n",
    "\n",
    "# Plot profits_by_genre\n",
    "ax = sns.barplot(data=profits_by_genre, x='Genre', y='Profit')\n",
    "\n",
    "# Set axes labels, title, and rotate x ticks\n",
    "ax.set(xlabel='Genres', ylabel='Profit', title='Movie Profits By Genres')\n",
    "plt.xticks(rotation=70)\n",
    "\n",
    "# Disable scientific notation on the y-axis\n",
    "ax.yaxis.set_major_formatter(ScalarFormatter(useMathText=True))\n",
    "plt.ticklabel_format(style='plain', axis='y')\n",
    "\n",
    "# Define a function to format profit values as currency\n",
    "def format_currency(x, pos):\n",
    "    return '${:,.0f}'.format(x)\n",
    "\n",
    "# Apply currency formatting to the y-axis ticks\n",
    "ax.yaxis.set_major_formatter(FuncFormatter(format_currency))\n",
    "\n",
    "plt.tight_layout();"
   ]
  },
  {
   "cell_type": "code",
   "execution_count": null,
   "id": "26cac59b-1b29-496b-ab2a-dbb24f833033",
   "metadata": {},
   "outputs": [],
   "source": [
    "profits_by_genre"
   ]
  },
  {
   "cell_type": "markdown",
   "id": "0bf0025d-0c46-48b0-b56d-39d3c0a91a9f",
   "metadata": {},
   "source": [
    "### Movie Profits By *Director*"
   ]
  },
  {
   "cell_type": "code",
   "execution_count": null,
   "id": "226d8186-a218-49af-9320-0e06021be2f7",
   "metadata": {},
   "outputs": [],
   "source": [
    "# Split the \"Directors\" column into multiple rows, so each director has their own row\n",
    "df_directors = movies_data.assign(Director=movies_data['Directors'].str.split(', ')).explode('Director')\n",
    "\n",
    "# Group by director and sum the profits\n",
    "profits_by_director = df_directors.groupby('Director')['Profit'].sum()\n",
    "\n",
    "# Create df of top 10 directors based on greatest profits\n",
    "top_ten_directors = profits_by_director.reset_index().sort_values(by='Profit', ascending=False)[0:10]\n",
    "\n",
    "# Plot profits_by_director\n",
    "ax = sns.barplot(data=top_ten_directors, x='Director', y='Profit')\n",
    "\n",
    "# Set axes labels, title, and rotate x ticks\n",
    "ax.set(xlabel='Directors', ylabel='Profit', title='Movie Profits By Top 10 Directors')\n",
    "plt.xticks(rotation=70)\n",
    "\n",
    "# Disable scientific notation on the y-axis\n",
    "ax.yaxis.set_major_formatter(ScalarFormatter(useMathText=True))\n",
    "plt.ticklabel_format(style='plain', axis='y')\n",
    "\n",
    "# Apply currency formatting to the y-axis ticks\n",
    "ax.yaxis.set_major_formatter(FuncFormatter(format_currency))\n",
    "\n",
    "plt.tight_layout();"
   ]
  },
  {
   "cell_type": "code",
   "execution_count": null,
   "id": "4f0cf519-fb67-42cb-abaa-9a12a40725c1",
   "metadata": {},
   "outputs": [],
   "source": [
    "top_ten_directors"
   ]
  },
  {
   "cell_type": "code",
   "execution_count": null,
   "id": "31fc976e-17fb-4eb1-a828-c8264391e0df",
   "metadata": {},
   "outputs": [],
   "source": [
    "# What genre of movies does Pierre Coffin make?\n",
    "df_directors[df_directors['Director'] == 'Pierre Coffin']"
   ]
  },
  {
   "cell_type": "markdown",
   "id": "c38a5852-6ab2-4b94-bb0e-71da90f1f373",
   "metadata": {},
   "source": [
    "### Movie Profits By *Release Month*"
   ]
  },
  {
   "cell_type": "code",
   "execution_count": null,
   "id": "a567c413-9724-4c89-a40f-59eea0b4ba06",
   "metadata": {},
   "outputs": [],
   "source": [
    "# Group by release month and sum the profits\n",
    "profits_by_month = df_genres.groupby('Release_Month')['Profit'].sum()\n",
    "\n",
    "# Reset index\n",
    "profits_by_month = profits_by_month.reset_index()\n",
    "\n",
    "ax = sns.lineplot(data=profits_by_month, x='Release_Month', y='Profit')\n",
    "\n",
    "# Set axes labels, title, and rotate x ticks\n",
    "ax.set(xlabel='Release Month', ylabel='Profit', title='Movie Profits By Release Month')\n",
    "\n",
    "# Disable scientific notation on the y-axis\n",
    "ax.yaxis.set_major_formatter(ScalarFormatter(useMathText=True))\n",
    "plt.ticklabel_format(style='plain', axis='y')\n",
    "\n",
    "# Apply currency formatting to the y-axis ticks\n",
    "ax.yaxis.set_major_formatter(FuncFormatter(format_currency))\n",
    "\n",
    "# Set the lower limit of the y-axis to 0\n",
    "ax.set_ylim(0)\n",
    "\n",
    "plt.tight_layout();"
   ]
  },
  {
   "cell_type": "code",
   "execution_count": null,
   "id": "2cb9c09e-de10-48d4-8e57-34e7b412c8b4",
   "metadata": {},
   "outputs": [],
   "source": [
    "profits_by_month"
   ]
  },
  {
   "cell_type": "markdown",
   "id": "3d58a8c3-70f0-4b8f-999c-b1870a445ca4",
   "metadata": {},
   "source": [
    "# Conclusions"
   ]
  },
  {
   "cell_type": "markdown",
   "id": "74a824e6-8a1d-4321-8543-8fd8339b5494",
   "metadata": {},
   "source": []
  },
  {
   "cell_type": "markdown",
   "id": "02ed9d15-53e5-4853-99fb-0d5b444fd876",
   "metadata": {},
   "source": [
    "## Limitations"
   ]
  },
  {
   "cell_type": "markdown",
   "id": "c5142a86-fa45-4f70-90c7-034ee72f0276",
   "metadata": {},
   "source": [
    "There are various limitations in this analysis.\n",
    "\n",
    "1. The datasets had to be greatly cut down. IMDB started with over 140,000 movies, but since there was not profit information for this data, our final dataset ended up being just under 1,600 movies to make sure each movie had profit, genre and director information.\n",
    "2. The profit column used to determine success of a movie is based on worldwide gross minus budget. #TODO"
   ]
  },
  {
   "cell_type": "markdown",
   "id": "140f0084-c5d2-46d7-8a9f-5d977f92b317",
   "metadata": {},
   "source": [
    "## Recommendations"
   ]
  },
  {
   "cell_type": "markdown",
   "id": "21761c42-57f4-477b-afaa-f6a243b2676d",
   "metadata": {},
   "source": [
    "This analysis has led me to conclude the following three recommendations:\n",
    "\n",
    "1. The **genre** of the first movie produced should be **adventure**. Adventure movies return the greatest profits at $77,715,231,698.\n",
    "   \n",
    "2. The **director** of the first movie produced should be **Pierre Coffin**. He has returned the greatest profits at $3,419,745,331.\n",
    "   \n",
    "3. The **release month** of the first movie produced should be **June**. This month returns the greatest profits at $65,275,799,762."
   ]
  },
  {
   "cell_type": "markdown",
   "id": "611ebe54-ff55-4fe3-9f39-d32626d20a5d",
   "metadata": {},
   "source": [
    "## Next Steps"
   ]
  },
  {
   "cell_type": "markdown",
   "id": "3f7c5a31-e9de-4457-95ca-74744d9979fa",
   "metadata": {},
   "source": [
    "Additional analysis could further optimize our profits for the acquisition of a new movie studio. I would like to investigate the following factors \n",
    "1. Analyze **budgets against profits** to determine a sweet spot for the budget for the first film. Consider costs to make film, marketing costs, and cast and staff salaries.\n",
    "2. Consider the profit opportunities between **theater releases** and **streaming services**. Should this first movie be released in theaters, over streaming services, or both?\n",
    "3. Determine an appropriate **runtime length** of the movie that would contribute to the success of the film. We do not want a film that is too short or too long. What runtime lengths are most successful?"
   ]
  }
 ],
 "metadata": {
  "kernelspec": {
   "display_name": "Python 3 (ipykernel)",
   "language": "python",
   "name": "python3"
  },
  "language_info": {
   "codemirror_mode": {
    "name": "ipython",
    "version": 3
   },
   "file_extension": ".py",
   "mimetype": "text/x-python",
   "name": "python",
   "nbconvert_exporter": "python",
   "pygments_lexer": "ipython3",
   "version": "3.11.5"
  }
 },
 "nbformat": 4,
 "nbformat_minor": 5
}
